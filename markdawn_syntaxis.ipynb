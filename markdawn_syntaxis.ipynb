{
 "cells": [
  {
   "cell_type": "markdown",
   "metadata": {},
   "source": [
    "Здесь содержится якорь для ссылки\n",
    "<a id='intro'></a>"
   ]
  },
  {
   "cell_type": "markdown",
   "metadata": {},
   "source": [
    "# Заголовок\n",
    "## Подзаголовок\n",
    "### Подподзаголовок\n",
    "#### Подподподзаголовок"
   ]
  },
  {
   "cell_type": "markdown",
   "metadata": {},
   "source": [
    "Тест - **Тест** - *Тест* - ***Тест***"
   ]
  },
  {
   "cell_type": "markdown",
   "metadata": {},
   "source": [
    "Выделение **`Важных данных`** в тексте"
   ]
  },
  {
   "cell_type": "markdown",
   "metadata": {},
   "source": [
    "Вставка картинок\n",
    "![](https://commonmark.org/help/images/favicon.png)"
   ]
  },
  {
   "cell_type": "markdown",
   "metadata": {},
   "source": [
    "Перенос строки\\\n",
    "Вторая строка"
   ]
  },
  {
   "cell_type": "markdown",
   "metadata": {},
   "source": [
    "[Текст ссылки](https://ya.ru)"
   ]
  },
  {
   "cell_type": "markdown",
   "metadata": {},
   "source": [
    "www.ya.ru"
   ]
  },
  {
   "cell_type": "markdown",
   "metadata": {},
   "source": [
    "> Блок цитирования "
   ]
  },
  {
   "cell_type": "markdown",
   "metadata": {},
   "source": [
    "1. Первый элемент списка\n",
    "1. Второй элемент списка\n",
    "   1. вложенный первый элемент\n",
    "   1. вложенный второй элемент\n",
    "1. Третий элемент списка\n",
    "\n",
    "- Первый элемент списка\n",
    "- Второй элемент списка\n",
    "  - вложенный первый элемент\n",
    "  - вложенный второй элемент\n",
    "- Третий элемент списка"
   ]
  },
  {
   "cell_type": "markdown",
   "metadata": {},
   "source": [
    "Это <sub>Надстрочный текст</sub>\n",
    "\n",
    "А это <sup>Подстрочный текст</sup>"
   ]
  },
  {
   "cell_type": "markdown",
   "metadata": {},
   "source": [
    "|Заголовок первой колонки   |Заголовок 2|Заголовок 3|\n",
    "|----------|-----------|------------|\n",
    "|Ячейка 1     |Ячейка 2       |Ячейка 3        |\n",
    "|Ячейка 4|Ячейка 5   |Ячейка 6|"
   ]
  },
  {
   "cell_type": "markdown",
   "metadata": {},
   "source": [
    "\n",
    "$$S \\cdot  \\left( 1 + {p \\over 100 \\cdot f} \\right) ^{f \\cdot 5} - S $$\n",
    "\n",
    "$$с = \\sqrt{a^2 + b^2}$$"
   ]
  },
  {
   "cell_type": "markdown",
   "metadata": {},
   "source": [
    "<font color=Blue size=5>Я синий </font> <font color=Red size=5>Я красный </font>"
   ]
  },
  {
   "cell_type": "markdown",
   "metadata": {},
   "source": [
    "[Ссылка на якорь](#intro)"
   ]
  },
  {
   "cell_type": "code",
   "execution_count": null,
   "metadata": {},
   "outputs": [],
   "source": []
  }
 ],
 "metadata": {
  "kernelspec": {
   "display_name": "Python 3 (ipykernel)",
   "language": "python",
   "name": "python3"
  },
  "language_info": {
   "codemirror_mode": {
    "name": "ipython",
    "version": 3
   },
   "file_extension": ".py",
   "mimetype": "text/x-python",
   "name": "python",
   "nbconvert_exporter": "python",
   "pygments_lexer": "ipython3",
   "version": "3.9.7"
  }
 },
 "nbformat": 4,
 "nbformat_minor": 4
}
