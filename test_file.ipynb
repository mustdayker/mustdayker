{
 "cells": [
  {
   "cell_type": "code",
   "execution_count": 9,
   "id": "68b51de1",
   "metadata": {},
   "outputs": [
    {
     "name": "stdout",
     "output_type": "stream",
     "text": [
      "['  user_id', 'total play', 'Artist', 'genre', 'track']\n",
      "['user_id', 'total_play', 'artist', 'genre', 'track']\n",
      "  user_id user_id\n",
      "total play total_play\n",
      "Artist artist\n",
      "genre genre\n",
      "track track\n"
     ]
    }
   ],
   "source": [
    "columns_replaced = ['  user_id', 'total play', 'Artist', 'genre', 'track']\n",
    "columns_to_replace = ['user_id', 'total_play', 'artist', 'genre', 'track']\n",
    "print(columns_replaced)\n",
    "print(columns_to_replace)\n",
    "\n",
    "for i in range(len(columns_to_replace)):\n",
    "    print(columns_replaced[i], columns_to_replace[i])\n",
    "\n"
   ]
  },
  {
   "cell_type": "code",
   "execution_count": null,
   "id": "be92a052",
   "metadata": {},
   "outputs": [],
   "source": []
  }
 ],
 "metadata": {
  "kernelspec": {
   "display_name": "Python 3 (ipykernel)",
   "language": "python",
   "name": "python3"
  },
  "language_info": {
   "codemirror_mode": {
    "name": "ipython",
    "version": 3
   },
   "file_extension": ".py",
   "mimetype": "text/x-python",
   "name": "python",
   "nbconvert_exporter": "python",
   "pygments_lexer": "ipython3",
   "version": "3.9.7"
  }
 },
 "nbformat": 4,
 "nbformat_minor": 5
}
