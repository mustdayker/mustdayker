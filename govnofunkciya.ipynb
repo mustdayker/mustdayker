{
 "cells": [
  {
   "cell_type": "markdown",
   "id": "3dcff255",
   "metadata": {},
   "source": [
    "## Аргументом функции может быть другая функция"
   ]
  },
  {
   "cell_type": "code",
   "execution_count": 2,
   "id": "97b313ec",
   "metadata": {},
   "outputs": [
    {
     "name": "stdout",
     "output_type": "stream",
     "text": [
      "7\n",
      "10\n",
      "35\n",
      "\n",
      "50025\n"
     ]
    }
   ],
   "source": [
    "def applicator(function, argument): # функция applicator принимает 2 аргумента function и argument\n",
    "    return function(argument) # при этом возвращает функциюю от этого аргумента. Получается функция в функции ХЗ зачем это надо\n",
    "                                # если в качестве аргумента указать не существующую функцию будет ошибка\n",
    "def f(x):\n",
    "    return x + 5 # функция f возвращает сумму аргумента и 5\n",
    "\n",
    "def g(x):\n",
    "    return x * 5 # функция g возвращает произведение аргумента и 5\n",
    "\n",
    "print(applicator(f, 2)) # мы запускаем функцию f с аргументом 2 (2 + 5 = 7)\n",
    "print(applicator(g, 2)) # мы запускаем функцию g с аргументом 2 (2 * 5 = 10)\n",
    "print(applicator(g, applicator(f, 2))) # мы запускаем функцию g (то есть 5 *) с аргументом(функция f(2) (то есть 7)) 7 * 5 = 35\n",
    "\n",
    "print()\n",
    "\n",
    "        # Результатом работы функции может быть другая функция\n",
    "def combinator(function1, function2): # я так и не понял нахуй это нужно и как это работает\n",
    "    def function3(x):\n",
    "        return function1(function2(x))\n",
    "    return function3\n",
    "\n",
    "fun = combinator(g, f)\n",
    "print(fun(10000))"
   ]
  }
 ],
 "metadata": {
  "kernelspec": {
   "display_name": "Python 3 (ipykernel)",
   "language": "python",
   "name": "python3"
  },
  "language_info": {
   "codemirror_mode": {
    "name": "ipython",
    "version": 3
   },
   "file_extension": ".py",
   "mimetype": "text/x-python",
   "name": "python",
   "nbconvert_exporter": "python",
   "pygments_lexer": "ipython3",
   "version": "3.9.7"
  }
 },
 "nbformat": 4,
 "nbformat_minor": 5
}
