{
 "cells": [
  {
   "cell_type": "markdown",
   "metadata": {},
   "source": [
    "<a id='intro'></a>\n",
    "<a id='head'></a>\n",
    "Здесь содержится якорь для ссылки\n",
    "\n",
    "[Вниз](#down)"
   ]
  },
  {
   "cell_type": "markdown",
   "metadata": {},
   "source": [
    "<div class=\"alert alert-danger\">\n",
    "    <b>Красный блок ❌:</b> Например, вот так. \n",
    "</div>\n",
    "\n",
    "<div class=\"alert alert-warning\">\n",
    "    <b>Желтый блок ⚠️:</b> Например, вот так.\n",
    "</div>\n",
    "\n",
    "<div class=\"alert alert-success\">\n",
    "    <b>Зеленый блок ✔️:</b> Например, вот так.\n",
    "</div> \n",
    "\n",
    "<div class=\"alert alert-info\">\n",
    "    <b>Синий блок:</b> Например, вот так.\n",
    "</div>"
   ]
  },
  {
   "cell_type": "markdown",
   "metadata": {},
   "source": [
    "<div style=\"border:solid orange 2px; padding: 20px\">\n",
    "Рамка. Тут может быть любой текст, а так же:\n",
    "<div class=\"alert alert-success\">\n",
    "<b>Блоки текста</b>\n",
    "    \n",
    "    print('А так же куски кода в них')\n",
    "    \n",
    "</div>"
   ]
  },
  {
   "cell_type": "markdown",
   "metadata": {},
   "source": [
    "<div class=\"alert alert-info\">\n",
    "    <h3 style=\"color:black; margin-bottom:20px\">Заголовок внтри цветного блока</h3>\n",
    "</div>"
   ]
  },
  {
   "cell_type": "markdown",
   "metadata": {},
   "source": [
    "<h1><p style=\"text-align: center;\">Пишем в центре</p></h>"
   ]
  },
  {
   "cell_type": "markdown",
   "metadata": {},
   "source": [
    "# Заголовок\n",
    "## Подзаголовок\n",
    "### Подподзаголовок\n",
    "#### Подподподзаголовок"
   ]
  },
  {
   "cell_type": "markdown",
   "metadata": {},
   "source": [
    "Тест - **Тест** - *Тест* - ***Тест***"
   ]
  },
  {
   "cell_type": "markdown",
   "metadata": {},
   "source": [
    "Выделение **`Важных данных`** в тексте. Так пожно выледять переменные `counter_list` или что-то подобное"
   ]
  },
  {
   "cell_type": "markdown",
   "metadata": {},
   "source": [
    "Перенос строки\\\n",
    "Вторая строка"
   ]
  },
  {
   "cell_type": "markdown",
   "metadata": {},
   "source": [
    "[Текст ссылки](https://ya.ru)"
   ]
  },
  {
   "cell_type": "markdown",
   "metadata": {},
   "source": [
    "www.ya.ru"
   ]
  },
  {
   "cell_type": "markdown",
   "metadata": {},
   "source": [
    "> Блок цитирования "
   ]
  },
  {
   "cell_type": "markdown",
   "metadata": {},
   "source": [
    "Еще можно выделять код внутри текста:\n",
    "\n",
    "    делается это вот так. Теперь операторы print(), int() и т.д. написаны привычным шрифтом\n",
    "    чтобы это сделать надо поставить 4 пробела"
   ]
  },
  {
   "cell_type": "markdown",
   "metadata": {},
   "source": [
    "- [ ] Чекбокс пустой\n",
    "- [x] Чекбокс заполненный"
   ]
  },
  {
   "cell_type": "markdown",
   "metadata": {},
   "source": [
    "1. Первый элемент списка\n",
    "1. Второй элемент списка\n",
    "   1. вложенный первый элемент\n",
    "   1. вложенный второй элемент\n",
    "1. Третий элемент списка\n",
    "\n",
    "- Первый элемент списка\n",
    "- Второй элемент списка\n",
    "  - вложенный первый элемент\n",
    "  - вложенный второй элемент\n",
    "- Третий элемент списка"
   ]
  },
  {
   "cell_type": "markdown",
   "metadata": {},
   "source": [
    "Это <sub>Надстрочный текст</sub>\n",
    "\n",
    "А это <sup>Подстрочный текст</sup>"
   ]
  },
  {
   "cell_type": "markdown",
   "metadata": {},
   "source": [
    "|Заголовок 1|Заголовок 2|Заголовок 3|\n",
    "|----------|-----------|------------|\n",
    "|Ячейка 1     |Ячейка 2       |Ячейка 3        |\n",
    "|Ячейка 4|Ячейка 5   |Ячейка 6|"
   ]
  },
  {
   "cell_type": "markdown",
   "metadata": {},
   "source": [
    "$$с = \\sqrt{a^2 + b^2}$$"
   ]
  },
  {
   "cell_type": "markdown",
   "metadata": {},
   "source": [
    "$$S \\cdot  \\left( 1 + {p \\over 100 \\cdot f} \\right) ^{f \\cdot 5} - S $$"
   ]
  },
  {
   "cell_type": "markdown",
   "metadata": {},
   "source": [
    "$$MAE = {1 \\over N} \\cdot \\sum_{i=1}^{N} \\mid y_{i} - \\widehat{y_{i}} \\mid$$"
   ]
  },
  {
   "cell_type": "markdown",
   "metadata": {},
   "source": [
    "$$MSE = {1 \\over N} \\cdot \\sum_{i=1}^{N} \\left(\\widehat{y_{i}} - y_{i}\\right)^2$$"
   ]
  },
  {
   "cell_type": "markdown",
   "metadata": {},
   "source": [
    "$$Recovery = {C \\cdot (F - T) \\over F \\cdot (C - T)} \\cdot 100\\% $$"
   ]
  },
  {
   "cell_type": "markdown",
   "metadata": {},
   "source": [
    "$$sMAPE = {1 \\over N} \\cdot \\sum_{i=1}^{N}{\\mid y_{i} - \\widehat{y_{i}} \\mid \\over \\left( \\mid y_{i} \\mid + \\mid \\widehat{y_{i}} \\mid \\right) \\div 2} \\cdot 100 \\%$$"
   ]
  },
  {
   "cell_type": "markdown",
   "metadata": {},
   "source": [
    "$$sMAPE_{conclusion} = \\left( 25\\% \\cdot sMAPE_{roughet} \\right) + \\left( 75\\% \\cdot sMAPE_{final} \\right)$$"
   ]
  },
  {
   "cell_type": "markdown",
   "metadata": {},
   "source": [
    "<font color=Blue size=5>\n",
    "\n",
    "Я синий и большой\n",
    "    \n",
    "</font>\n",
    "<font color=Red size=2>\n",
    "    \n",
    "Я красный и маленький\n",
    "    \n",
    "</font>"
   ]
  },
  {
   "cell_type": "markdown",
   "metadata": {},
   "source": [
    "<font color=orange>\n",
    "    \n",
    "<b>Оранжевый</b>\n",
    "\n",
    "</font> \n",
    "<font color=#008000>\n",
    "    \n",
    "<b>Зеленый</b>\n",
    "\n",
    "</font>"
   ]
  },
  {
   "cell_type": "markdown",
   "metadata": {},
   "source": [
    "---    "
   ]
  },
  {
   "cell_type": "markdown",
   "metadata": {},
   "source": [
    "---"
   ]
  },
  {
   "cell_type": "markdown",
   "metadata": {},
   "source": [
    "![](https://commonmark.org/help/images/favicon.png)"
   ]
  },
  {
   "cell_type": "markdown",
   "metadata": {},
   "source": [
    "Картинки можно вставлять как ссылкой:\n",
    "- `![](path/name.jpg)`\n",
    "- `![](www.site.ru/path/name.jpg)`\n",
    "\n",
    "Так и просто копипастой. Юпитер на лету сконвертирует картинку в свой формат."
   ]
  },
  {
   "cell_type": "markdown",
   "metadata": {},
   "source": [
    "![](datasets/001.jpg)"
   ]
  },
  {
   "cell_type": "markdown",
   "metadata": {},
   "source": [
    "<a id='down'></a>\n",
    "[Ссылка на якорь](#intro)"
   ]
  },
  {
   "cell_type": "markdown",
   "metadata": {},
   "source": [
    "# [▴](#head)"
   ]
  },
  {
   "cell_type": "markdown",
   "metadata": {},
   "source": [
    "# Операторы"
   ]
  },
  {
   "cell_type": "markdown",
   "metadata": {},
   "source": [
    "- $x + y$\n",
    "- $x - y$\n",
    "- $x \\times y$ \n",
    "- $x \\div y$\n",
    "- $\\dfrac{x}{y}$\n",
    "- $\\sqrt{x}$"
   ]
  },
  {
   "cell_type": "markdown",
   "metadata": {},
   "source": [
    "# Символы"
   ]
  },
  {
   "cell_type": "markdown",
   "metadata": {},
   "source": [
    "\n",
    "- $\\pi \\approx 3.14159$\n",
    "- $\\pm \\, 0.2$\n",
    "- $\\dfrac{0}{1} \\neq \\infty$\n",
    "- $0 < x < 1$\n",
    "- $0 \\leq x \\leq 1$\n",
    "- $x \\geq 10$\n",
    "- $\\forall \\, x \\in (1,2)$\n",
    "- $\\exists \\, x \\notin [0,1]$\n",
    "- $A \\subset B$\n",
    "- $A \\subseteq B$\n",
    "- $A \\cup B$\n",
    "- $A \\cap B$\n",
    "- $X \\implies Y$\n",
    "- $X \\impliedby Y$\n",
    "- $a \\to b$\n",
    "- $a \\longrightarrow b$\n",
    "- $a \\Rightarrow b$\n",
    "- $a \\Longrightarrow b$\n",
    "- $a \\propto b$"
   ]
  },
  {
   "cell_type": "markdown",
   "metadata": {},
   "source": [
    "\n",
    "- $\\bar a$\n",
    "- $\\tilde a$\n",
    "- $\\breve a$\n",
    "- $\\hat a$\n",
    "- $a^ \\prime$\n",
    "- $a^ \\dagger$\n",
    "- $a^ \\ast$\n",
    "- $a^ \\star$\n",
    "- $\\mathcal A$\n",
    "- $\\mathrm a$\n",
    "- $\\cdots$\n",
    "- $\\vdots$\n",
    "- $\\#$\n",
    "- $\\$$\n",
    "- $\\%$\n",
    "- $\\&$\n",
    "- $\\{ \\}$\n",
    "- $\\_$"
   ]
  },
  {
   "cell_type": "markdown",
   "metadata": {},
   "source": [
    "# Пробелы\n",
    "\n",
    "- Horizontal space: $\\quad$\n",
    "- Large horizontal space: $\\qquad$\n",
    "- Small space: $\\,$\n",
    "- Medium space: $\\:$\n",
    "- Large space: $\\;$\n",
    "- Negative space: $\\!$"
   ]
  },
  {
   "cell_type": "markdown",
   "metadata": {},
   "source": [
    "# Греческие символы\n",
    "\n",
    "Small Letter |\tCapital Letter\t| Alternative\n",
    "-|-|-\n",
    "$ \\alpha\t$ | $ A\t        $  |       \n",
    "$ \\beta\t    $ | $ B         $  |  \t\n",
    "$ \\gamma\t$ | $ \\Gamma    $  | \t  \n",
    "$ \\delta\t$ | $ \\Delta    $  |      \t  \n",
    "$ \\epsilon\t$ | $ E\t        $  |           $ \\varepsilon $\n",
    "$ \\zeta\t    $ | $ Z\t        $  |            \n",
    "$ \\eta\t    $ | $ H\t        $  |            \n",
    "$ \\theta\t$ | $ \\Theta\t$  |           $ \\vartheta $\n",
    "$ \\zeta\t    $ | $ I\t        $  |             \n",
    "$ \\kappa\t$ | $ K\t        $  |          $ \\varkappa $\n",
    "$ \\lambda\t$ | $ \\Lambda\t$  | \n",
    "$ \\mu\t    $ | $ M\t        $  |          \n",
    "$ \\nu\t    $ | $ N\t        $  |             \n",
    "$ \\xi\t    $ | $ \\Xi\t    $  |      \n",
    "$ \\omicron\t$ | $ O\t        $  |                \n",
    "$ \\pi\t    $ | $ \\Pi\t    $  |          $  \\varpi $\n",
    "$ \\rho\t    $ | $  P\t    $  |      $  \\varrho $\n",
    "$ \\sigma\t$ | $ \\Sigma\t$  |        $   \\varsigma $\n",
    "$ \\tau\t    $ | $  T\t    $  |          \n",
    "$ \\upsilon\t$ | $ \\Upsilon\t$  |                \n",
    "$ \\phi\t    $ | $  \\Phi\t    $  |          $    \\varphi $\n",
    "$ \\chi\t    $ | $  X\t    $  |      \n",
    "$ \\psi\t    $ | $ \\Psi\t    $  |                  \n",
    "$ \\omega\t$ | $ \\Omega\t$  |              "
   ]
  },
  {
   "cell_type": "markdown",
   "metadata": {},
   "source": [
    "# Равенства"
   ]
  },
  {
   "cell_type": "markdown",
   "metadata": {},
   "source": [
    "$$\\mathbb{N} = \\{ a \\in \\mathbb{Z} : a > 0 \\}$$\n",
    "$$\\forall \\; x \\in X \\quad \\exists \\; y \\leq \\epsilon$$\n",
    "$$\\color{blue}{X \\sim Normal \\; (\\mu,\\sigma^2)}$$\n",
    "$$P \\left( A=2 \\, \\middle| \\, \\dfrac{A^2}{B}>4 \\right)$$\n",
    "$$f(x) = x^2 - x^\\frac{1}{\\pi}$$\n",
    "$$f(X,n) = X_n + X_{n-1}$$\n",
    "$$f(x) = \\sqrt[3]{2x} + \\sqrt{x-2}$$\n",
    "$$\\mathrm{e} = \\sum_{n=0}^{\\infty} \\dfrac{1}{n!}$$\n",
    "$$\\prod_{i=1}^{n} x_i - 1$$\n",
    "$$\\lim_{x \\to 0^+} \\dfrac{1}{x} = \\infty$$\n",
    "$$\\int_a^b y \\: \\mathrm{d}x$$\n",
    "$$\\log_a b = 1$$\n",
    "$$\\max(S) = \\max_{i:S_i \\in S} S_i$$\n",
    "$$\\dfrac{n!}{k!(n-k)!} = \\binom{n}{k}$$\n",
    "$$\\text{$\\dfrac{b}{a+b}=3, \\:$ therefore we can set $\\: a=6$}$$"
   ]
  },
  {
   "cell_type": "markdown",
   "metadata": {},
   "source": [
    "# Функции\n",
    "\n",
    "$$\n",
    "f(x)=\n",
    "\\begin{cases}\n",
    "1/d_{ij} & \\quad \\text{when $d_{ij} \\leq 160$}\\\\ \n",
    "0 & \\quad \\text{otherwise}\n",
    "\\end{cases}\n",
    "$$"
   ]
  },
  {
   "cell_type": "markdown",
   "metadata": {},
   "source": [
    "# Матрицы\n",
    "\n",
    "$$\n",
    "\\begin{matrix}\n",
    "1 & 2 & 3 \\\\\n",
    "4 & 5 & 6 \\\\\n",
    "7 & 8 & 9\n",
    "\\end{matrix}\n",
    "$$\n",
    "\n",
    "$$\n",
    "M = \n",
    "\\begin{bmatrix}\n",
    "\\frac{5}{6} & \\frac{1}{6} & 0 \\\\[0.3em]\n",
    "\\frac{5}{6} & 0 & \\frac{1}{6} \\\\[0.3em]\n",
    "0 & \\frac{5}{6} & \\frac{1}{6}\n",
    "\\end{bmatrix}\n",
    "$$\n",
    "\n",
    "\n",
    "$$ \n",
    "M =\n",
    "\\begin{bmatrix}\n",
    "1 & 0 \\\\\n",
    "0 & 1\n",
    "\\end{bmatrix}\n",
    "\\begin{bmatrix}\n",
    "1 & 0 \\\\\n",
    "0 & 1\n",
    "\\end{bmatrix}\n",
    "$$\n",
    "\n",
    "\n",
    "$$ \n",
    "M =\n",
    "\\begin{pmatrix}\n",
    "1 & 0 \\\\\n",
    "0 & 1\n",
    "\\end{pmatrix}\n",
    "\\begin{pmatrix}\n",
    "1 & 0 \\\\\n",
    "0 & 1\n",
    "\\end{pmatrix}\n",
    "$$\n",
    "\n",
    "\n",
    "$$\n",
    "A_{m,n} = \n",
    "\\begin{pmatrix}\n",
    "a_{1,1} & a_{1,2} & \\cdots & a_{1,n} \\\\\n",
    "a_{2,1} & a_{2,2} & \\cdots & a_{2,n} \\\\\n",
    "\\vdots & \\vdots & \\ddots & \\vdots \\\\\n",
    "a_{m,1} & a_{m,2} & \\cdots & a_{m,n} \n",
    "\\end{pmatrix}\n",
    "$$\n",
    "\n",
    "\n"
   ]
  },
  {
   "cell_type": "markdown",
   "metadata": {},
   "source": [
    "# Размер шрифта\n",
    "\n",
    "\n",
    "$\\Huge Hello!$\n",
    "$\\huge Hello!$\n",
    "$\\LARGE Hello!$\n",
    "$\\Large Hello!$\n",
    "$\\large Hello!$\n",
    "$\\normalsize Hello!$\n",
    "$\\small Hello!$\n",
    "$\\scriptsize Hello!$\n",
    "$\\tiny Hello!$\n",
    "\n",
    "$$\\small \\text{Font size is small, eg. $\\sum{x_i = 10}$}$$"
   ]
  }
 ],
 "metadata": {
  "kernelspec": {
   "display_name": "Python 3 (ipykernel)",
   "language": "python",
   "name": "python3"
  },
  "language_info": {
   "codemirror_mode": {
    "name": "ipython",
    "version": 3
   },
   "file_extension": ".py",
   "mimetype": "text/x-python",
   "name": "python",
   "nbconvert_exporter": "python",
   "pygments_lexer": "ipython3",
   "version": "3.9.12"
  }
 },
 "nbformat": 4,
 "nbformat_minor": 4
}
