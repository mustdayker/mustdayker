{
 "cells": [
  {
   "cell_type": "markdown",
   "id": "78c300de",
   "metadata": {},
   "source": [
    "<div style=\"border:solid green 2px; padding: 20px\">\n",
    "    \n",
    "# Структура проекта\n",
    "## Оглавление\n",
    "### Название проекта\n",
    "- Вступление\n",
    "    - краткое описание проекта\n",
    "- Цель исследования\n",
    "    - проверить гипотезы и т.п.\n",
    "    - перечислить их с кратким описанием\n",
    "- Ход исследования\n",
    "    - где получили данные\n",
    "    - какого они качества\n",
    "    - что предстоит сделать\n",
    "    - коротко описать этапы\n",
    "\n",
    "### Обзор данных\n",
    "- Чтение данных\n",
    "- Выводы о качестве данных (пропущенные значения и тп)\n",
    "- Список столбцов с описанием (описать нарушения стиля)\n",
    "- Краткая сводка о типе данных\n",
    "- Выводы\n",
    "\n",
    "### Предобработка данных\n",
    "- Пройтись по чек листу подробно комментируя шаги и код\n",
    "- Выводы\n",
    "    - Описать найденные проблемы\n",
    "    - Описать их решение и плюсы\n",
    "\n",
    "### Проверка гипотез\n",
    "- Заголовок гипотезы\n",
    "    - Описание гипотезы и ее цель\n",
    "    - Код\n",
    "    - Краткие выводы по шагам\n",
    "    - Общий вывод гипотезы\n",
    "\n",
    "\n",
    "### Итоги исследования\n",
    "- Мы проверили гипотезы и установили\n",
    "    - 1 гипотеза - вывод\n",
    "    - 2 гипотеза - вывод\n",
    "    - 3 гипотеза вывод\n",
    "- Общий вывод"
   ]
  },
  {
   "cell_type": "markdown",
   "id": "3f79d9c3",
   "metadata": {},
   "source": [
    "# Полезные приемы\n",
    "- фильтрация ланных\n",
    "    - `df[df['colname'] == 'val']`\n",
    "    - `df[df['colname'] == 'val'].count()`\n",
    "    - `df[df['colname'] == 'val']['colname'].count()`\n",
    "- подсчет количества\n",
    "    - `df.groupby('colname1')['colname2'].count()`\n",
    "    - `df.groupby('colname1')['colname2'].count().sort_values()`\n",
    "- количество элементов таблицы\n",
    "    - `df.shape` - строки и столбцы\n",
    "    - `df.shape[0]` - строки\n",
    "    - `df.shape[1]` - столбцы\n",
    "- логическая индексация\n",
    "    - `df.loc[df.loc[:,'colname'] == 'val']\n",
    "    - `df.loc[df.loc[:,'colname'] == 'val']['В']`\n",
    "    - `df.loc[df.loc[:,'colname'] == 'val']['В'].count()`"
   ]
  },
  {
   "cell_type": "markdown",
   "id": "02dbfa3b",
   "metadata": {},
   "source": [
    "# Чек лист DS\n",
    "### Обзор данных\n",
    "- чтение файла\n",
    "    - использовать `try... except` для чтения\n",
    "- обзор данных\n",
    "    - `display(df.head())`\n",
    "    - `df.info()`\n",
    "    - `df.dtypes`\n",
    "    - `df.shape`\n",
    "    - `df.columns`\n",
    "- при выводе DF выводить имя DF\n",
    "    - `df.name`\n",
    "\n",
    "### Предобработка данных\n",
    "- [стиль заголовков](#rename_01) - `df.rename()` или `df.columns.str`\n",
    "- подсчет пропусков - `df.isna().sum()`\n",
    "- замена пропусков - `df['colname'].fillna('value')`\n",
    "- удаление пропусков - `df.dropna(subset=['colname1', 'colname2'])`\n",
    "- подсчет явных дубликатов - `df.duplicated().sum()`\n",
    "- удаление явных дубликатов - `df.drop_duplicates().reset_index(drop=True)`\n",
    "- поиск неявных дубликатов - `df['colname'].sort_values().unique()`\n",
    "- [замена неявных дубликатов](#replace_duplicates_01) - `df['colname'].replace('wrong', right')`\n",
    "\n",
    "### Проверка гипотез\n",
    "\n",
    "\n",
    "### Оформление результатов исследования"
   ]
  },
  {
   "cell_type": "markdown",
   "id": "c99df7e2",
   "metadata": {},
   "source": [
    "<a id='rename_01'></a>\n",
    "**Стиль заголовков**\n",
    "- привести к нижнему регистру\n",
    "- убрать пробелы\n",
    "- использоват snake_case"
   ]
  },
  {
   "cell_type": "code",
   "execution_count": null,
   "id": "84951ab5",
   "metadata": {},
   "outputs": [],
   "source": [
    "df.rename(columns={'  userID': 'user_id', 'Track': 'track', '  City  ': 'city', 'Day': 'day'}, inplace=True)\n",
    "df.columns = df.columns.str.strip().str.lower().str.replace('userid', 'user_id')"
   ]
  },
  {
   "cell_type": "code",
   "execution_count": null,
   "id": "3f2d3120",
   "metadata": {},
   "outputs": [],
   "source": []
  },
  {
   "cell_type": "code",
   "execution_count": null,
   "id": "7862d1c5",
   "metadata": {},
   "outputs": [],
   "source": []
  },
  {
   "cell_type": "code",
   "execution_count": null,
   "id": "aacd3d62",
   "metadata": {},
   "outputs": [],
   "source": []
  },
  {
   "cell_type": "markdown",
   "id": "effb0f52",
   "metadata": {},
   "source": [
    "<a id='replace_duplicates_01'></a>\n",
    "**Замена неявных дубликатов**"
   ]
  },
  {
   "cell_type": "code",
   "execution_count": null,
   "id": "a259f382",
   "metadata": {},
   "outputs": [],
   "source": [
    "def replace_wrong_genres(wrong_genres, correct_genre):\n",
    "    for wrong_genre in wrong_genres:\n",
    "        df['genre'] = df['genre'].replace(wrong_genre, correct_genre)"
   ]
  },
  {
   "cell_type": "code",
   "execution_count": null,
   "id": "344e9ef3",
   "metadata": {},
   "outputs": [],
   "source": [
    "def replace_wrong_genres_upgrade(genres_duplicates): # принимаем на вход словарь с данными о дубликатах\n",
    "    for item in genres_duplicates.items(): # обходим каждый элемент словаря, распаковывая их в кортеж\n",
    "        for val in item[1]: # в кортеже создаем цикл на обход списка (по сути это значение ключа словаря со списком дубликатов)\n",
    "            df['genre'] = df['genre'].replace(val, item[0]) # заменяем каждый дубликат на верное значение (ключ словаря)"
   ]
  },
  {
   "cell_type": "code",
   "execution_count": null,
   "id": "0b9e6f56",
   "metadata": {},
   "outputs": [],
   "source": []
  },
  {
   "cell_type": "code",
   "execution_count": null,
   "id": "46fcc76e",
   "metadata": {},
   "outputs": [],
   "source": []
  }
 ],
 "metadata": {
  "kernelspec": {
   "display_name": "Python 3 (ipykernel)",
   "language": "python",
   "name": "python3"
  },
  "language_info": {
   "codemirror_mode": {
    "name": "ipython",
    "version": 3
   },
   "file_extension": ".py",
   "mimetype": "text/x-python",
   "name": "python",
   "nbconvert_exporter": "python",
   "pygments_lexer": "ipython3",
   "version": "3.9.7"
  }
 },
 "nbformat": 4,
 "nbformat_minor": 5
}
