{
 "cells": [
  {
   "cell_type": "markdown",
   "id": "f35ee782",
   "metadata": {},
   "source": [
    "## Синтаксис Python: часть 2"
   ]
  },
  {
   "cell_type": "markdown",
   "id": "af7cfbf4",
   "metadata": {},
   "source": [
    "### Функции, lambda-функции, работа с библиотечными модулями и функциями."
   ]
  },
  {
   "cell_type": "markdown",
   "id": "764df970",
   "metadata": {},
   "source": [
    "#### Еще немного про списки"
   ]
  },
  {
   "cell_type": "markdown",
   "id": "e18b3926",
   "metadata": {},
   "source": [
    "## Распаковка списков"
   ]
  },
  {
   "cell_type": "code",
   "execution_count": 5,
   "id": "7a395ed2",
   "metadata": {},
   "outputs": [
    {
     "name": "stdout",
     "output_type": "stream",
     "text": [
      "1 а\n"
     ]
    }
   ],
   "source": [
    "x, y = 1, \"а\" # Присвоение значений сразу нескольким переменным\n",
    "print(x, y)"
   ]
  },
  {
   "cell_type": "code",
   "execution_count": 6,
   "id": "d87cf37e",
   "metadata": {},
   "outputs": [
    {
     "name": "stdout",
     "output_type": "stream",
     "text": [
      "1 а\n",
      "1 а\n"
     ]
    }
   ],
   "source": [
    "x, y = (1, \"а\")\n",
    "print(x, y)\n",
    "# print(type(x), type(y))\n",
    "x, y = [1, \"а\"]\n",
    "print(x, y)\n"
   ]
  },
  {
   "cell_type": "code",
   "execution_count": 11,
   "id": "5a898df7",
   "metadata": {},
   "outputs": [
    {
     "name": "stdout",
     "output_type": "stream",
     "text": [
      "А\n",
      "2\n",
      "None\n"
     ]
    }
   ],
   "source": [
    "my_list = [\"А\", 2, None]\n",
    "x, y, z = my_list\n",
    "print(x)\n",
    "print(y)\n",
    "print(z)"
   ]
  },
  {
   "cell_type": "code",
   "execution_count": 12,
   "id": "46d72d5f",
   "metadata": {},
   "outputs": [
    {
     "name": "stdout",
     "output_type": "stream",
     "text": [
      "42 fourty two\n",
      "fourty two 42\n"
     ]
    }
   ],
   "source": [
    "x = 42\n",
    "y = 'fourty two'\n",
    "print(x, y)\n",
    "x, y = y, x\n",
    "print(x, y)"
   ]
  },
  {
   "cell_type": "markdown",
   "id": "1c10829a",
   "metadata": {},
   "source": [
    "### В Python есть встроенные фкнкци, которыми можно пользоваться по умолчанию. Вот некоторые из них"
   ]
  },
  {
   "cell_type": "code",
   "execution_count": 30,
   "id": "38ec7b55",
   "metadata": {},
   "outputs": [
    {
     "name": "stdout",
     "output_type": "stream",
     "text": [
      "[0, 1, 2, 3, 4, 5, 6, 7, 8, 9]\n"
     ]
    }
   ],
   "source": [
    "rng = [i for i in range(10)] # Генератор\n",
    "print(rng)"
   ]
  },
  {
   "cell_type": "markdown",
   "id": "7c8b5240",
   "metadata": {},
   "source": [
    "### zip"
   ]
  },
  {
   "cell_type": "code",
   "execution_count": 43,
   "id": "efacbcc8",
   "metadata": {},
   "outputs": [
    {
     "name": "stdout",
     "output_type": "stream",
     "text": [
      "['a', 'b', 7] [1, None, 'q']\n",
      "[('a', 1), ('b', None), (7, 'q')]\n",
      "[('a', 1), ('b', None), (7, 'q')]\n"
     ]
    }
   ],
   "source": [
    "a = ['a', 'b', 7]\n",
    "b = [1, None, 'q']\n",
    "print(a, b)\n",
    "print(list(zip(a, b)))\n",
    "c = list(zip(a, b))\n",
    "print(c)"
   ]
  },
  {
   "cell_type": "code",
   "execution_count": 49,
   "id": "e88e4062",
   "metadata": {},
   "outputs": [
    {
     "name": "stdout",
     "output_type": "stream",
     "text": [
      "('a', 1)\n",
      "('b', None)\n",
      "(7, 'q')\n"
     ]
    }
   ],
   "source": [
    "for x in zip(a, b):\n",
    "    print(x)"
   ]
  },
  {
   "cell_type": "code",
   "execution_count": 88,
   "id": "a750da72",
   "metadata": {
    "scrolled": true
   },
   "outputs": [
    {
     "name": "stdout",
     "output_type": "stream",
     "text": [
      "Первый элемент это 'a', Второй элемент это '1'\n",
      "Первый элемент это 'b', Второй элемент это 'None'\n",
      "Первый элемент это '7', Второй элемент это 'q'\n"
     ]
    }
   ],
   "source": [
    "for x in list(zip(a, b)):\n",
    "    print(\"Первый элемент это '{0}', Второй элемент это '{1}'\".format(x[0], x[1]))\n",
    "    "
   ]
  },
  {
   "cell_type": "code",
   "execution_count": 89,
   "id": "f1b0b314",
   "metadata": {},
   "outputs": [
    {
     "name": "stdout",
     "output_type": "stream",
     "text": [
      "Первый элемент это 'a', Второй элемент это '1'\n",
      "Первый элемент это 'b', Второй элемент это 'None'\n",
      "Первый элемент это '7', Второй элемент это 'q'\n"
     ]
    }
   ],
   "source": [
    "for (fst, snd) in zip(a, b):\n",
    "    print(\"Первый элемент это '{}', Второй элемент это '{}'\".format(fst, snd))"
   ]
  },
  {
   "cell_type": "code",
   "execution_count": 90,
   "id": "b9d620c7",
   "metadata": {},
   "outputs": [
    {
     "name": "stdout",
     "output_type": "stream",
     "text": [
      "Первый элемент это 'a', Второй элемент это '1'\n",
      "Первый элемент это 'b', Второй элемент это 'None'\n",
      "Первый элемент это '7', Второй элемент это 'q'\n"
     ]
    }
   ],
   "source": [
    "for fst, snd in zip(a, b):\n",
    "    print(\"Первый элемент это '{}', Второй элемент это '{}'\".format(fst, snd))"
   ]
  },
  {
   "cell_type": "markdown",
   "id": "0604aa03",
   "metadata": {},
   "source": [
    "### enumerate"
   ]
  },
  {
   "cell_type": "code",
   "execution_count": 96,
   "id": "a7d2ba35",
   "metadata": {},
   "outputs": [
    {
     "name": "stdout",
     "output_type": "stream",
     "text": [
      "['a', 'b', 'c']\n",
      "[(0, 'a'), (1, 'b'), (2, 'c')]\n"
     ]
    }
   ],
   "source": [
    "my_list = ['a', 'b', 'c']\n",
    "print(my_list)\n",
    "print(list(zip(range(len(my_list)), my_list)))"
   ]
  },
  {
   "cell_type": "code",
   "execution_count": 99,
   "id": "6c719661",
   "metadata": {},
   "outputs": [
    {
     "name": "stdout",
     "output_type": "stream",
     "text": [
      "<class 'enumerate'>\n",
      "(0, 'a')\n",
      "(1, 'b')\n",
      "(2, 'c')\n"
     ]
    }
   ],
   "source": [
    "print(type(enumerate(my_list)))\n",
    "for x in enumerate(my_list):\n",
    "    print(x)"
   ]
  },
  {
   "cell_type": "code",
   "execution_count": 100,
   "id": "457f9a6f",
   "metadata": {},
   "outputs": [
    {
     "name": "stdout",
     "output_type": "stream",
     "text": [
      "0 a\n",
      "1 b\n",
      "2 c\n"
     ]
    }
   ],
   "source": [
    "for index, value in enumerate(my_list):\n",
    "    print(index, value)"
   ]
  },
  {
   "cell_type": "code",
   "execution_count": 103,
   "id": "d137c373",
   "metadata": {},
   "outputs": [
    {
     "name": "stdout",
     "output_type": "stream",
     "text": [
      "[(0, 'a'), (1, 'b'), (2, 'c')]\n"
     ]
    }
   ],
   "source": [
    "y = list(enumerate(my_list))\n",
    "print(y)"
   ]
  },
  {
   "cell_type": "markdown",
   "id": "2fdac12d",
   "metadata": {},
   "source": [
    "### reversed"
   ]
  },
  {
   "cell_type": "code",
   "execution_count": 104,
   "id": "cd5805fc",
   "metadata": {},
   "outputs": [
    {
     "name": "stdout",
     "output_type": "stream",
     "text": [
      "<class 'list_reverseiterator'>\n"
     ]
    }
   ],
   "source": [
    "print(type(reversed(my_list)))"
   ]
  },
  {
   "cell_type": "code",
   "execution_count": 110,
   "id": "43d90605",
   "metadata": {},
   "outputs": [
    {
     "name": "stdout",
     "output_type": "stream",
     "text": [
      "['c', 'b', 'a']\n",
      "a\n"
     ]
    }
   ],
   "source": [
    "print(list(reversed(my_list)))\n",
    "print(list(reversed(my_list))[2])"
   ]
  },
  {
   "cell_type": "code",
   "execution_count": 106,
   "id": "3838ca78",
   "metadata": {},
   "outputs": [
    {
     "name": "stdout",
     "output_type": "stream",
     "text": [
      "c\n",
      "b\n",
      "a\n"
     ]
    }
   ],
   "source": [
    "for x in reversed(my_list):\n",
    "    print(x)"
   ]
  },
  {
   "cell_type": "markdown",
   "id": "0115ca61",
   "metadata": {},
   "source": [
    "### sorted"
   ]
  },
  {
   "cell_type": "code",
   "execution_count": 126,
   "id": "1a07f818",
   "metadata": {},
   "outputs": [
    {
     "name": "stdout",
     "output_type": "stream",
     "text": [
      "Изначальный список: [1, 2, 3, 1, 2]\n",
      "\n",
      "Отсортированный список: [1, 1, 2, 2, 3]\n",
      "Список отсортированный в обратном порядке: [3, 2, 2, 1, 1]\n",
      "\n",
      "Проверка что список не изменился: [1, 2, 3, 1, 2]\n"
     ]
    }
   ],
   "source": [
    "my_list = [1, 2, 3, 1, 2]\n",
    "print(\"Изначальный список:\", my_list)\n",
    "print()\n",
    "print(\"Отсортированный список:\", sorted(my_list))\n",
    "print(\"Список отсортированный в обратном порядке:\", sorted(my_list, reverse=True))\n",
    "print()\n",
    "print(\"Проверка что список не изменился:\", my_list)"
   ]
  },
  {
   "cell_type": "code",
   "execution_count": 5,
   "id": "5b432923",
   "metadata": {},
   "outputs": [
    {
     "name": "stdout",
     "output_type": "stream",
     "text": [
      "Исходный список: [(1, 1), (2, 0), (3, 4), (1, -1), (2, 2)]\n",
      "Сортированный список: [(1, -1), (1, 1), (2, 0), (2, 2), (3, 4)]\n"
     ]
    }
   ],
   "source": [
    "my_list = [(1, 1), (2, 0), (3, 4), (1, -1), (2, 2)]\n",
    "print(\"Исходный список:\", my_list)\n",
    "print(\"Сортированный список:\", sorted(my_list))"
   ]
  },
  {
   "cell_type": "code",
   "execution_count": 6,
   "id": "51bd9966",
   "metadata": {},
   "outputs": [
    {
     "name": "stdout",
     "output_type": "stream",
     "text": [
      "[(1, -1), (2, 0), (1, 1), (2, 2), (3, 4)]\n"
     ]
    }
   ],
   "source": [
    "def get_second(x):\n",
    "    return x[1]\n",
    "print(sorted(my_list, key=get_second))"
   ]
  },
  {
   "cell_type": "code",
   "execution_count": 7,
   "id": "8a059a6b",
   "metadata": {},
   "outputs": [
    {
     "name": "stdout",
     "output_type": "stream",
     "text": [
      "[(1, -1), (1, 1), (2, 0), (2, 2), (3, 4)]\n"
     ]
    }
   ],
   "source": [
    "def new_get_second(x):\n",
    "    if x[0] == 1:\n",
    "        return x[1]\n",
    "    else:\n",
    "        return x[1] + x[0]\n",
    "print(sorted(my_list, key=new_get_second))\n"
   ]
  },
  {
   "cell_type": "markdown",
   "id": "2d1fc779",
   "metadata": {},
   "source": [
    "## Функции"
   ]
  },
  {
   "cell_type": "markdown",
   "id": "607beef2",
   "metadata": {},
   "source": [
    "### Зачем они нужны"
   ]
  },
  {
   "cell_type": "code",
   "execution_count": 10,
   "id": "3eaae57b",
   "metadata": {},
   "outputs": [
    {
     "name": "stdout",
     "output_type": "stream",
     "text": [
      "97969.14166032098\n",
      "93865.61536000011\n",
      "96805.48491925473\n"
     ]
    }
   ],
   "source": [
    "# процентная ставка\n",
    "p = 8\n",
    "# сколько раз в год происходит капитализация\n",
    "f = 12\n",
    "# сумма вклада\n",
    "S = 200000\n",
    "# количество лет\n",
    "L = 5\n",
    "\n",
    "print(S * (1 + p / 100 / f) ** (f * L) - S)\n",
    "\n",
    "# процентная ставка\n",
    "p = 8\n",
    "# сколько раз в год происходит капитализация\n",
    "f = 1\n",
    "# сумма вклада\n",
    "S = 200000\n",
    "# количество лет\n",
    "L = 5\n",
    "\n",
    "print(S * (1 + p / 100 / f) ** (f * L) - S)\n",
    "\n",
    "# процентная ставка\n",
    "p = 8\n",
    "# сколько раз в год происходит капитализация\n",
    "f = 3\n",
    "# сумма вклада\n",
    "S = 200000\n",
    "# количество лет\n",
    "L = 5\n",
    "\n",
    "print(S * (1 + p / 100 / f) ** (f * L) - S)"
   ]
  },
  {
   "cell_type": "code",
   "execution_count": 13,
   "id": "521954ca",
   "metadata": {},
   "outputs": [
    {
     "name": "stdout",
     "output_type": "stream",
     "text": [
      "97969.14166032098\n",
      "93865.61536000011\n",
      "96805.48491925473\n"
     ]
    }
   ],
   "source": [
    "def get_income(p, f, S, L):\n",
    "    return S * (1 + p / 100 / f) ** (f * L) - S\n",
    "\n",
    "print(get_income(8, 12, 200000, 5))\n",
    "print(get_income(8, 1, 200000, 5))\n",
    "print(get_income(8, 3, 200000, 5))"
   ]
  },
  {
   "cell_type": "code",
   "execution_count": 15,
   "id": "ea6f6da3",
   "metadata": {},
   "outputs": [
    {
     "name": "stdout",
     "output_type": "stream",
     "text": [
      "97969.14166032098\n",
      "93865.61536000011\n",
      "96805.48491925473\n"
     ]
    }
   ],
   "source": [
    "def get_income(p, f, S, L):\n",
    "    return S * (1 + p / f) ** (f * L) - S\n",
    "\n",
    "print(get_income(0.08, 12, 200000, 5))\n",
    "print(get_income(0.08, 1, 200000, 5))\n",
    "print(get_income(0.08, 3, 200000, 5))"
   ]
  },
  {
   "cell_type": "markdown",
   "id": "911fdc83",
   "metadata": {},
   "source": [
    "## Научимся создавать свои функции"
   ]
  },
  {
   "cell_type": "code",
   "execution_count": 21,
   "id": "7d61f311",
   "metadata": {},
   "outputs": [],
   "source": [
    "# типичная функция\n",
    "\n",
    "def function_name(variable1, variable2):\n",
    "    # какой-то код\n",
    "    # для примера, пусть это будет сумма в квадрате\n",
    "    variable3 = variable1 + variable2\n",
    "    return variable3 ** 2"
   ]
  },
  {
   "cell_type": "code",
   "execution_count": 24,
   "id": "6302541a",
   "metadata": {},
   "outputs": [
    {
     "name": "stdout",
     "output_type": "stream",
     "text": [
      "49\n",
      "1\n"
     ]
    }
   ],
   "source": [
    "print(function_name(3, 4))\n",
    "print(function_name(3, -4))"
   ]
  },
  {
   "cell_type": "markdown",
   "id": "be0f29a0",
   "metadata": {},
   "source": [
    "### return не обязательно должен быть один"
   ]
  },
  {
   "cell_type": "code",
   "execution_count": 26,
   "id": "d034f834",
   "metadata": {},
   "outputs": [],
   "source": [
    "def function_name(variable1, variable2):\n",
    "    if variable1 > variable2:\n",
    "        return 'First'\n",
    "    elif variable1 < variable2:\n",
    "        return 'Second'\n",
    "    else:\n",
    "        return 'Equal'"
   ]
  },
  {
   "cell_type": "code",
   "execution_count": 27,
   "id": "3e177e71",
   "metadata": {},
   "outputs": [
    {
     "name": "stdout",
     "output_type": "stream",
     "text": [
      "Second\n",
      "First\n",
      "Equal\n"
     ]
    }
   ],
   "source": [
    "print(function_name(1, 2))\n",
    "print(function_name(3, 1))\n",
    "print(function_name(3, 3))"
   ]
  },
  {
   "cell_type": "markdown",
   "id": "af362926",
   "metadata": {},
   "source": [
    "### А что будет если мы вообще не вернем значения?"
   ]
  },
  {
   "cell_type": "code",
   "execution_count": 42,
   "id": "923485d7",
   "metadata": {},
   "outputs": [],
   "source": [
    "def f1(x):\n",
    "    print('we was in f1')\n",
    "\n",
    "def _f(x):\n",
    "    print('we was in _f')\n",
    "    return x"
   ]
  },
  {
   "cell_type": "code",
   "execution_count": null,
   "id": "009086f8",
   "metadata": {
    "scrolled": true
   },
   "outputs": [],
   "source": [
    "def 1_f(x):\n",
    "    print('we was in 1_f') # Этот код выдаст ошибку так как название функции не может начинаться с цифры"
   ]
  },
  {
   "cell_type": "code",
   "execution_count": 43,
   "id": "878a90ac",
   "metadata": {},
   "outputs": [
    {
     "name": "stdout",
     "output_type": "stream",
     "text": [
      "we was in f1\n",
      "None\n",
      "\n",
      "we was in _f\n",
      "1\n"
     ]
    }
   ],
   "source": [
    "r = f1(1)\n",
    "print(r) # если мы не вернули значение при назначение функции то вернется \"None\"\n",
    "print()\n",
    "y = _f(1)\n",
    "print(y)"
   ]
  },
  {
   "cell_type": "markdown",
   "id": "9da5e629",
   "metadata": {},
   "source": [
    "## Давайте напишем несколько простых функций"
   ]
  },
  {
   "cell_type": "code",
   "execution_count": 46,
   "id": "f1a97e47",
   "metadata": {},
   "outputs": [
    {
     "name": "stdout",
     "output_type": "stream",
     "text": [
      "7\n",
      "456\n",
      "88\n",
      "[555, 8, 6, 4, 2]\n"
     ]
    }
   ],
   "source": [
    "def plus_1(x):\n",
    "     return x + 1\n",
    "    \n",
    "def my_abs(x):\n",
    "    if x < 0:\n",
    "        return -x\n",
    "    else:\n",
    "        return x\n",
    "\n",
    "def my_sum(x, y):\n",
    "    return x + y\n",
    "    \n",
    "def my_sort(my_list):\n",
    "    return sorted(my_list, reverse=True)\n",
    "\n",
    "print(plus_1(6))\n",
    "print(my_abs(-456))\n",
    "print(my_sum(8, 80))\n",
    "print(my_sort([2, 4, 6, 8, 555]))"
   ]
  },
  {
   "cell_type": "markdown",
   "id": "2aa2b8cb",
   "metadata": {},
   "source": [
    "## Переменное число агругментов"
   ]
  },
  {
   "cell_type": "code",
   "execution_count": 50,
   "id": "a795cab3",
   "metadata": {},
   "outputs": [
    {
     "name": "stdout",
     "output_type": "stream",
     "text": [
      "16\n"
     ]
    }
   ],
   "source": [
    "def my_sum_extended(*values):\n",
    "    res = 0\n",
    "    for values in values:\n",
    "        res += values\n",
    "    return res\n",
    "\n",
    "print(my_sum_extended(10, 5, 1))"
   ]
  },
  {
   "cell_type": "markdown",
   "id": "3937e03a",
   "metadata": {},
   "source": [
    "##  Аргументы по умолчанию"
   ]
  },
  {
   "cell_type": "code",
   "execution_count": 65,
   "id": "325df704",
   "metadata": {},
   "outputs": [
    {
     "name": "stdout",
     "output_type": "stream",
     "text": [
      "7\n",
      "12\n",
      "12\n",
      "12\n"
     ]
    }
   ],
   "source": [
    "def f(x, y = 5):\n",
    "    return x + y\n",
    "\n",
    "print(f(2))\n",
    "print(f(2, 10))\n",
    "print(f(2, y=10))\n",
    "print(f(x=2, y=10))\n",
    "# print(f(x=2, 10)) # так делать нельзя даст ошибку\n"
   ]
  },
  {
   "cell_type": "markdown",
   "id": "3137ce90",
   "metadata": {},
   "source": [
    "### Осторожнее с аргументами по умолчанию"
   ]
  },
  {
   "cell_type": "code",
   "execution_count": 68,
   "id": "eec76efd",
   "metadata": {},
   "outputs": [
    {
     "name": "stdout",
     "output_type": "stream",
     "text": [
      "[0]\n",
      "0\n",
      "[1, 2, 1]\n",
      "4\n",
      "[4, 2]\n",
      "6\n",
      "[0, 3]\n",
      "3\n",
      "[4]\n",
      "4\n",
      "[0, 3, 5]\n",
      "8\n"
     ]
    }
   ],
   "source": [
    "def f(x, my_list=[]):\n",
    "    my_list.append(x)\n",
    "    print(my_list)\n",
    "    return sum(my_list)\n",
    "\n",
    "print(f(0))\n",
    "print(f(1, [1,2]))\n",
    "print(f(2, [4]))\n",
    "print(f(3))\n",
    "print(f(4, []))\n",
    "print(f(5))\n"
   ]
  },
  {
   "cell_type": "markdown",
   "id": "92306380",
   "metadata": {},
   "source": [
    "#### Правильно делать так:"
   ]
  },
  {
   "cell_type": "code",
   "execution_count": 69,
   "id": "220eafeb",
   "metadata": {},
   "outputs": [
    {
     "name": "stdout",
     "output_type": "stream",
     "text": [
      "0\n",
      "4\n",
      "6\n",
      "3\n",
      "4\n",
      "5\n"
     ]
    }
   ],
   "source": [
    "def f(x, my_list=None):\n",
    "    if my_list is None:\n",
    "        my_list = []\n",
    "    my_list.append(x)\n",
    "    return sum(my_list)\n",
    "\n",
    "print(f(0))\n",
    "print(f(1, [1,2]))\n",
    "print(f(2, [4]))\n",
    "print(f(3))\n",
    "print(f(4, []))\n",
    "print(f(5))"
   ]
  },
  {
   "cell_type": "markdown",
   "id": "46db41cc",
   "metadata": {},
   "source": [
    "### Аргументом функции может быть другая функция"
   ]
  },
  {
   "cell_type": "code",
   "execution_count": 71,
   "id": "a66af0e7",
   "metadata": {},
   "outputs": [
    {
     "name": "stdout",
     "output_type": "stream",
     "text": [
      "6\n",
      "5\n",
      "30\n"
     ]
    }
   ],
   "source": [
    "def applicator(function, argument):\n",
    "    return function(argument)\n",
    "\n",
    "def f(x):\n",
    "    return x + 5\n",
    "\n",
    "def g(x):\n",
    "    return x * 5\n",
    "\n",
    "print(applicator(f, 1))\n",
    "print(applicator(g, 1))\n",
    "print(applicator(g, applicator(f, 1)))\n",
    "    "
   ]
  },
  {
   "cell_type": "markdown",
   "id": "d06706e4",
   "metadata": {},
   "source": [
    "### Результатом работы функции может быть другая функция"
   ]
  },
  {
   "cell_type": "code",
   "execution_count": 72,
   "id": "6aa4250b",
   "metadata": {},
   "outputs": [
    {
     "name": "stdout",
     "output_type": "stream",
     "text": [
      "30\n"
     ]
    }
   ],
   "source": [
    "def combinator(function1, function2):\n",
    "    def function3(x):\n",
    "        return function1(function2(x))\n",
    "    return function3\n",
    "\n",
    "fun = combinator(g, f)\n",
    "print(fun(1))"
   ]
  },
  {
   "cell_type": "markdown",
   "id": "9cdb775a",
   "metadata": {},
   "source": [
    "## Лямбда функции"
   ]
  },
  {
   "cell_type": "markdown",
   "id": "6c92e909",
   "metadata": {},
   "source": [
    "#### Лямбда функции позволяют создавать безымянные функции"
   ]
  },
  {
   "cell_type": "code",
   "execution_count": 76,
   "id": "28baccbd",
   "metadata": {},
   "outputs": [
    {
     "name": "stdout",
     "output_type": "stream",
     "text": [
      "6\n",
      "6 6\n",
      "1001 1001\n"
     ]
    }
   ],
   "source": [
    "def f(x):\n",
    "    return x + 1\n",
    "\n",
    "print(f(5))\n",
    "g = lambda x: x + 1\n",
    "print(f(5), g(5))\n",
    "print(f(1000), g(1000))"
   ]
  },
  {
   "cell_type": "code",
   "execution_count": 82,
   "id": "b01f88ce",
   "metadata": {},
   "outputs": [
    {
     "name": "stdout",
     "output_type": "stream",
     "text": [
      "14\n"
     ]
    }
   ],
   "source": [
    "g = lambda x, y: x + y\n",
    "print(g(5, 9))\n",
    "# g = lambda (x, y): x + y # какая то хуета с синтаксисом. Видимо фомат Python 2\n",
    "# print(g((5, 9)))"
   ]
  },
  {
   "cell_type": "markdown",
   "id": "c67b05d6",
   "metadata": {},
   "source": [
    "#### Глубокая распаковка"
   ]
  },
  {
   "cell_type": "code",
   "execution_count": 84,
   "id": "001aded0",
   "metadata": {},
   "outputs": [],
   "source": [
    "# g = lambda (x, (y, z), t): x + y + z + t # Старый синтаксис, не прокатывает в Python 3\n",
    "# print(g((1, (2,3), 4)))"
   ]
  },
  {
   "cell_type": "markdown",
   "id": "437b4af4",
   "metadata": {},
   "source": [
    "Удобно передавать в качестве параметров"
   ]
  },
  {
   "cell_type": "code",
   "execution_count": 92,
   "id": "c5028f7e",
   "metadata": {},
   "outputs": [
    {
     "name": "stdout",
     "output_type": "stream",
     "text": [
      "Исходный список: [(1, 1), (2, 0), (3, 4), (1, -1), (2, 2)]\n",
      "\n",
      "[(1, -1), (2, 0), (1, 1), (2, 2), (3, 4)]\n"
     ]
    }
   ],
   "source": [
    "my_list = [(1, 1), (2, 0), (3, 4), (1, -1), (2, 2)]\n",
    "print(\"Исходный список:\", my_list)\n",
    "print()\n",
    "print(sorted(my_list, key=lambda x: x[1]))\n",
    "# print(sorted(my_list, key=lambda x, y: y))\n",
    "# print(sorted(my_list, key=lambda (x, y): y))"
   ]
  },
  {
   "cell_type": "markdown",
   "id": "fdb267e0",
   "metadata": {},
   "source": [
    "### Аргументы по умолчанию"
   ]
  },
  {
   "cell_type": "code",
   "execution_count": 95,
   "id": "3a7acfdd",
   "metadata": {},
   "outputs": [
    {
     "name": "stdout",
     "output_type": "stream",
     "text": [
      "35\n",
      "6\n"
     ]
    }
   ],
   "source": [
    "f = lambda x=1, y=5: x+y\n",
    "print(f(x=15, y=20))\n",
    "print(f())"
   ]
  },
  {
   "cell_type": "markdown",
   "id": "8ef67cb2",
   "metadata": {},
   "source": [
    "### Захват переменной"
   ]
  },
  {
   "cell_type": "code",
   "execution_count": 96,
   "id": "2a8bb3ba",
   "metadata": {},
   "outputs": [
    {
     "name": "stdout",
     "output_type": "stream",
     "text": [
      "6\n",
      "7\n",
      "8\n"
     ]
    }
   ],
   "source": [
    "x = 5\n",
    "def f(y):\n",
    "    return x + y\n",
    "print(f(1))\n",
    "print(f(2))\n",
    "print(f(3))"
   ]
  },
  {
   "cell_type": "code",
   "execution_count": 97,
   "id": "5b78321c",
   "metadata": {},
   "outputs": [
    {
     "name": "stdout",
     "output_type": "stream",
     "text": [
      "6\n",
      "7\n",
      "83\n"
     ]
    }
   ],
   "source": [
    "x = 5\n",
    "def f(y):\n",
    "    return x + y\n",
    "print(f(1))\n",
    "print(f(2))\n",
    "x=80\n",
    "print(f(3))"
   ]
  },
  {
   "cell_type": "code",
   "execution_count": 100,
   "id": "97d3cc3c",
   "metadata": {},
   "outputs": [
    {
     "name": "stdout",
     "output_type": "stream",
     "text": [
      "16\n",
      "17\n",
      "18\n"
     ]
    }
   ],
   "source": [
    "x = 5\n",
    "def f(y):\n",
    "    global x\n",
    "    x += 1\n",
    "    return x + y\n",
    "print(f(10))\n",
    "print(f(10))\n",
    "print(f(10))"
   ]
  },
  {
   "cell_type": "code",
   "execution_count": 98,
   "id": "d080545a",
   "metadata": {},
   "outputs": [
    {
     "name": "stdout",
     "output_type": "stream",
     "text": [
      "6\n",
      "7\n",
      "8\n"
     ]
    }
   ],
   "source": [
    "x = 5\n",
    "f = lambda y: x + y\n",
    "print(f(1))\n",
    "print(f(2))\n",
    "print(f(3))"
   ]
  },
  {
   "cell_type": "code",
   "execution_count": 101,
   "id": "8b0d2032",
   "metadata": {},
   "outputs": [
    {
     "name": "stdout",
     "output_type": "stream",
     "text": [
      "2\n",
      "4\n",
      "6\n"
     ]
    }
   ],
   "source": [
    "x = 5\n",
    "\n",
    "def f(y):\n",
    "    global x\n",
    "    x = y\n",
    "    return x + y\n",
    "\n",
    "print(f(1))\n",
    "print(f(2))\n",
    "print(f(3))"
   ]
  },
  {
   "cell_type": "markdown",
   "id": "43e2e990",
   "metadata": {},
   "source": [
    "#### Еще несколько стандартных функций"
   ]
  },
  {
   "cell_type": "markdown",
   "id": "0b97181b",
   "metadata": {},
   "source": [
    "### map"
   ]
  },
  {
   "cell_type": "code",
   "execution_count": 129,
   "id": "44e250f3",
   "metadata": {},
   "outputs": [
    {
     "name": "stdout",
     "output_type": "stream",
     "text": [
      "1 2 3 4 5 6 7 "
     ]
    }
   ],
   "source": [
    "old_list = ['1', '2', '3', '4', '5', '6', '7']\n",
    "for item in map(int, old_list):\n",
    "    print(item, end=' ')\n"
   ]
  },
  {
   "cell_type": "code",
   "execution_count": 158,
   "id": "29eaa21c",
   "metadata": {},
   "outputs": [
    {
     "name": "stdout",
     "output_type": "stream",
     "text": [
      "1 4 9 16 25 "
     ]
    }
   ],
   "source": [
    "my_list = [1, 2, 3, 4, 5]\n",
    "def square(x):\n",
    "    return x ** 2\n",
    "for item in map(square, my_list):\n",
    "    print(item, end=' ')"
   ]
  },
  {
   "cell_type": "code",
   "execution_count": 125,
   "id": "8f9fe415",
   "metadata": {
    "scrolled": true
   },
   "outputs": [
    {
     "name": "stdout",
     "output_type": "stream",
     "text": [
      "0 0 1 2 3 4 3 2 5 "
     ]
    }
   ],
   "source": [
    "my_list = [0, 0, -1, -2, -3, 4, 3, 2, 5]\n",
    "for item in map(lambda x: abs(x), my_list):\n",
    "    print(item, end=\" \")"
   ]
  },
  {
   "cell_type": "code",
   "execution_count": 159,
   "id": "35d229a4",
   "metadata": {},
   "outputs": [
    {
     "name": "stdout",
     "output_type": "stream",
     "text": [
      "1 4 9 16 25 "
     ]
    }
   ],
   "source": [
    "my_list = [1, 2, 3, 4, 5]\n",
    "for item in map(lambda x: x ** 2, my_list):\n",
    "    print(item, end=' ')"
   ]
  },
  {
   "cell_type": "code",
   "execution_count": 161,
   "id": "992a5a2d",
   "metadata": {},
   "outputs": [
    {
     "name": "stdout",
     "output_type": "stream",
     "text": [
      "0 0 1 2 3 4 3 2 5 "
     ]
    }
   ],
   "source": [
    "my_list = [0, 0, -1, -2, -3, 4, 3, 2, 5]\n",
    "for i in map(abs, my_list):\n",
    "    print(i, end=' ')"
   ]
  },
  {
   "cell_type": "markdown",
   "id": "bb9e165b",
   "metadata": {},
   "source": [
    "### filter"
   ]
  },
  {
   "cell_type": "code",
   "execution_count": 171,
   "id": "2c27f7fb",
   "metadata": {},
   "outputs": [
    {
     "name": "stdout",
     "output_type": "stream",
     "text": [
      "0 0 -1 -2 -3 \n",
      "[0, 0, -1, -2, -3]\n"
     ]
    }
   ],
   "source": [
    "my_list = [0, 0, -1, -2, -3, 4, 3, 2, 5]\n",
    "new_list = []\n",
    "for i in filter(lambda x: x <= 0, my_list):\n",
    "    print(i, end=' ')\n",
    "    new_list.append(i)\n",
    "print()\n",
    "print(new_list)"
   ]
  },
  {
   "cell_type": "markdown",
   "id": "082af71e",
   "metadata": {},
   "source": [
    "### sum min max"
   ]
  },
  {
   "cell_type": "code",
   "execution_count": 184,
   "id": "fce64e35",
   "metadata": {},
   "outputs": [
    {
     "name": "stdout",
     "output_type": "stream",
     "text": [
      "8\n",
      "-3\n",
      "5\n",
      "\n",
      "1\n",
      "3\n"
     ]
    }
   ],
   "source": [
    "my_list = [0, 0, -1, -2, -3, 4, 3, 2, 5]\n",
    "print(sum(my_list))\n",
    "print(min(my_list))\n",
    "print(max(my_list))\n",
    "print()\n",
    "print(min(1,2,3))\n",
    "print(max(1,2,3))\n"
   ]
  },
  {
   "cell_type": "markdown",
   "id": "5d74ed0a",
   "metadata": {},
   "source": [
    "### reduce"
   ]
  },
  {
   "cell_type": "code",
   "execution_count": 187,
   "id": "c3c1818f",
   "metadata": {},
   "outputs": [
    {
     "name": "stdout",
     "output_type": "stream",
     "text": [
      "8\n",
      "-3\n",
      "5\n"
     ]
    }
   ],
   "source": [
    "from functools import reduce\n",
    "my_list = [0, 0, -1, -2, -3, 4, 3, 2, 5]\n",
    "print(reduce(lambda x, y: x + y, my_list))\n",
    "print(reduce(lambda x, y: min(x, y), my_list))\n",
    "print(reduce(lambda x, y: max(x, y), my_list))"
   ]
  },
  {
   "cell_type": "markdown",
   "id": "95e9be49",
   "metadata": {},
   "source": [
    "# Работа с модулями"
   ]
  },
  {
   "cell_type": "code",
   "execution_count": 189,
   "id": "ecc2f565",
   "metadata": {},
   "outputs": [],
   "source": [
    "import math"
   ]
  },
  {
   "cell_type": "code",
   "execution_count": 192,
   "id": "4ce1ff87",
   "metadata": {},
   "outputs": [
    {
     "name": "stdout",
     "output_type": "stream",
     "text": [
      "3\n",
      "4\n"
     ]
    }
   ],
   "source": [
    "print(math.floor(3.1))\n",
    "print(math.ceil(3.1))"
   ]
  },
  {
   "cell_type": "code",
   "execution_count": 194,
   "id": "69d263d6",
   "metadata": {},
   "outputs": [],
   "source": [
    "from math import factorial"
   ]
  },
  {
   "cell_type": "code",
   "execution_count": 198,
   "id": "326e5db1",
   "metadata": {},
   "outputs": [
    {
     "name": "stdout",
     "output_type": "stream",
     "text": [
      "1\n",
      "120\n"
     ]
    }
   ],
   "source": [
    "print(factorial(1))\n",
    "print(factorial(5))"
   ]
  }
 ],
 "metadata": {
  "kernelspec": {
   "display_name": "Python 3 (ipykernel)",
   "language": "python",
   "name": "python3"
  },
  "language_info": {
   "codemirror_mode": {
    "name": "ipython",
    "version": 3
   },
   "file_extension": ".py",
   "mimetype": "text/x-python",
   "name": "python",
   "nbconvert_exporter": "python",
   "pygments_lexer": "ipython3",
   "version": "3.9.7"
  }
 },
 "nbformat": 4,
 "nbformat_minor": 5
}
