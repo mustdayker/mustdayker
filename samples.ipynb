{
 "cells": [
  {
   "cell_type": "markdown",
   "id": "fb8c5c9e",
   "metadata": {},
   "source": [
    "### Строки\n",
    "- [Массовый вызов методов строк для переименования заголовков DF](#columns_01)\n",
    "\n",
    "### Циклы\n",
    "- [Обратный цикл перебора словаря](#cycle_01)\n",
    "- [Замена дубликатов в DF (простая)](#cycle_02)\n",
    "- [Замена дубликатов в DF (улучшенная)](#cycle_03)\n",
    "\n",
    "### Распаковка списков\n",
    "### Условия\n",
    "### Функции\n",
    "### Генераторы списков\n",
    "### OS\n"
   ]
  },
  {
   "cell_type": "markdown",
   "id": "ef43143f",
   "metadata": {},
   "source": [
    "# Циклы"
   ]
  },
  {
   "cell_type": "markdown",
   "id": "4b5645a4",
   "metadata": {},
   "source": [
    "### Обратный цикл перебора словаря <a id='cycle_01'></a>"
   ]
  },
  {
   "cell_type": "code",
   "execution_count": null,
   "id": "853144d9",
   "metadata": {},
   "outputs": [],
   "source": [
    "test_dict = {\"Слово\": ['Славо', \"Слуво\", \"Сливо\"], \"Огонь\": [\"Кинь\", \"Конь\"]}\n",
    "for item in test_dict.items():\n",
    "    for val in item[1]:\n",
    "        print(val, \"->\", item[0])"
   ]
  },
  {
   "cell_type": "markdown",
   "id": "5d040d51",
   "metadata": {},
   "source": [
    "### Замена дубликатов в DF (простая) <a id='cycle_02'></a>"
   ]
  },
  {
   "cell_type": "code",
   "execution_count": null,
   "id": "49db305d",
   "metadata": {},
   "outputs": [],
   "source": [
    "def replace_wrong_genres(wrong_genres, correct_genre):\n",
    "    for wrong_genre in wrong_genres:\n",
    "        df['genre'] = df['genre'].replace(wrong_genre, correct_genre)\n",
    "\n",
    "replace_wrong_genres(['hip-hop', 'hip', 'hop'], 'hiphop')"
   ]
  },
  {
   "cell_type": "markdown",
   "id": "141b9bc5",
   "metadata": {},
   "source": [
    "### Замена дубликатов в DF (улучшеная) <a id='cycle_03'></a>"
   ]
  },
  {
   "cell_type": "code",
   "execution_count": null,
   "id": "27d90691",
   "metadata": {},
   "outputs": [],
   "source": [
    "def replace_wrong_genres_upgrade(genres_duplicates): # принимаем на вход словарь с данными о дубликатах\n",
    "    for item in genres_duplicates.items(): # обходим каждый элемент словаря, распаковывая их в кортеж\n",
    "        for val in item[1]: # в кортеже создаем цикл на обход списка (по сути это значение ключа словаря со списком дубликатов)\n",
    "            df['genre'] = df['genre'].replace(val, item[0]) # заменяем каждый дубликат на верное значение (ключ словаря)\n",
    "\n",
    "duplicates_dict = {'hiphop': ['hip-hop', 'hip', 'hop'], 'electronic': ['электроника']} # наборов может быть сколько угодно\n",
    "replace_wrong_genres_upgrade(duplicates_dict)"
   ]
  },
  {
   "cell_type": "markdown",
   "id": "bb8cd008",
   "metadata": {},
   "source": [
    "# Строки"
   ]
  },
  {
   "cell_type": "markdown",
   "id": "f973d3ee",
   "metadata": {},
   "source": [
    "### Массовый вызов методов строк для переименования заголовков DF <a id='columns_01'></a>"
   ]
  },
  {
   "cell_type": "code",
   "execution_count": null,
   "id": "5d4caec3",
   "metadata": {},
   "outputs": [],
   "source": [
    "df.columns = df.columns.str.strip().str.lower().str.replace('с_значение_1', 'на_значение_2')"
   ]
  },
  {
   "cell_type": "code",
   "execution_count": null,
   "id": "c61fc630",
   "metadata": {},
   "outputs": [],
   "source": []
  }
 ],
 "metadata": {
  "kernelspec": {
   "display_name": "Python 3 (ipykernel)",
   "language": "python",
   "name": "python3"
  },
  "language_info": {
   "codemirror_mode": {
    "name": "ipython",
    "version": 3
   },
   "file_extension": ".py",
   "mimetype": "text/x-python",
   "name": "python",
   "nbconvert_exporter": "python",
   "pygments_lexer": "ipython3",
   "version": "3.9.7"
  }
 },
 "nbformat": 4,
 "nbformat_minor": 5
}
