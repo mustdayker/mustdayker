{
 "cells": [
  {
   "cell_type": "markdown",
   "metadata": {},
   "source": [
    "## Синтаксис Python: часть 1"
   ]
  },
  {
   "cell_type": "markdown",
   "metadata": {},
   "source": [
    "## Типы данных и управляющие конструкции"
   ]
  },
  {
   "cell_type": "markdown",
   "metadata": {},
   "source": [
    "### 1. Числовые типы данных и арифметика"
   ]
  },
  {
   "cell_type": "markdown",
   "metadata": {},
   "source": [
    "### Тип данных int (целые числа)"
   ]
  },
  {
   "cell_type": "code",
   "execution_count": 2,
   "metadata": {},
   "outputs": [],
   "source": [
    "x = 7"
   ]
  },
  {
   "cell_type": "code",
   "execution_count": 3,
   "metadata": {
    "scrolled": true
   },
   "outputs": [
    {
     "name": "stdout",
     "output_type": "stream",
     "text": [
      "7\n"
     ]
    }
   ],
   "source": [
    "print (x)"
   ]
  },
  {
   "cell_type": "code",
   "execution_count": 4,
   "metadata": {},
   "outputs": [
    {
     "name": "stdout",
     "output_type": "stream",
     "text": [
      "<class 'int'>\n"
     ]
    }
   ],
   "source": [
    "print (type(x)) # Вывести тип переменной"
   ]
  },
  {
   "cell_type": "code",
   "execution_count": 5,
   "metadata": {},
   "outputs": [
    {
     "name": "stdout",
     "output_type": "stream",
     "text": [
      "9 20 1.25\n"
     ]
    }
   ],
   "source": [
    "a = 4 + 5\n",
    "b = 4 * 5\n",
    "c = 5 / 4\n",
    "print (a, b, c) # Вывод нескольких переменных одной командой"
   ]
  },
  {
   "cell_type": "code",
   "execution_count": 6,
   "metadata": {},
   "outputs": [
    {
     "name": "stdout",
     "output_type": "stream",
     "text": [
      "-1.25\n"
     ]
    }
   ],
   "source": [
    "print (-5 / 4) # Вычисление внутри функции вывода"
   ]
  },
  {
   "cell_type": "code",
   "execution_count": 7,
   "metadata": {},
   "outputs": [
    {
     "name": "stdout",
     "output_type": "stream",
     "text": [
      "-1.25\n"
     ]
    }
   ],
   "source": [
    "print (-(5 / 4))"
   ]
  },
  {
   "cell_type": "markdown",
   "metadata": {},
   "source": [
    "### Тип данных long (длинные числа)"
   ]
  },
  {
   "cell_type": "code",
   "execution_count": 8,
   "metadata": {},
   "outputs": [
    {
     "name": "stdout",
     "output_type": "stream",
     "text": [
      "50000000000000000000000000001\n",
      "<class 'int'>\n"
     ]
    }
   ],
   "source": [
    "x = 5 * 10000000 * 10000000 * 10000000 * 10000000 + 1\n",
    "print (x)\n",
    "print (type(x))"
   ]
  },
  {
   "cell_type": "code",
   "execution_count": 9,
   "metadata": {
    "scrolled": false
   },
   "outputs": [
    {
     "name": "stdout",
     "output_type": "stream",
     "text": [
      "<class 'int'>\n",
      "50000000000000000000000000001\n",
      "<class 'int'>\n"
     ]
    }
   ],
   "source": [
    "y = 5\n",
    "print (type(y))\n",
    "y = x\n",
    "print (y)\n",
    "print (type(y))"
   ]
  },
  {
   "cell_type": "markdown",
   "metadata": {},
   "source": [
    "### Тип данных float (числа с плавающей точкой)"
   ]
  },
  {
   "cell_type": "code",
   "execution_count": 10,
   "metadata": {
    "scrolled": true
   },
   "outputs": [
    {
     "name": "stdout",
     "output_type": "stream",
     "text": [
      "5.7\n",
      "<class 'float'>\n"
     ]
    }
   ],
   "source": [
    "y  = 5.7\n",
    "print (y)\n",
    "print (type(y))"
   ]
  },
  {
   "cell_type": "code",
   "execution_count": 23,
   "metadata": {
    "scrolled": true
   },
   "outputs": [
    {
     "name": "stdout",
     "output_type": "stream",
     "text": [
      "9.3 21.419999999999998 1.25\n",
      "<class 'float'> <class 'float'> <class 'float'>\n"
     ]
    }
   ],
   "source": [
    "a = 4.2 + 5.1\n",
    "b = 4.2 * 5.1\n",
    "c = 5.0 / 4.0\n",
    "print (a, b, c)\n",
    "print (type(a), type(b), type(c))"
   ]
  },
  {
   "cell_type": "code",
   "execution_count": 24,
   "metadata": {
    "scrolled": false
   },
   "outputs": [
    {
     "name": "stdout",
     "output_type": "stream",
     "text": [
      "3.14\n",
      "3\n",
      "<class 'float'>\n",
      "<class 'int'>\n"
     ]
    }
   ],
   "source": [
    "a = 3.14\n",
    "b = int(a) # Изменение типа переменной\n",
    "print (a)\n",
    "print (b)\n",
    "print (type(a))\n",
    "print (type(b))"
   ]
  },
  {
   "cell_type": "markdown",
   "metadata": {},
   "source": [
    "**Задача 1.** Вы вкладываете 1 миллион рублей под 9% годовых. Сколько у вас будет денег через год? Через пять лет?"
   ]
  },
  {
   "cell_type": "code",
   "execution_count": 26,
   "metadata": {},
   "outputs": [
    {
     "data": {
      "text/plain": [
       "90000.0"
      ]
     },
     "execution_count": 26,
     "metadata": {},
     "output_type": "execute_result"
    }
   ],
   "source": [
    "1000000 * (9 / 100)"
   ]
  },
  {
   "cell_type": "code",
   "execution_count": 27,
   "metadata": {},
   "outputs": [
    {
     "name": "stdout",
     "output_type": "stream",
     "text": [
      "1565681.0269415707\n"
     ]
    }
   ],
   "source": [
    "print(10e5 * (1 + 0.09 / 12) ** (5 * 12))"
   ]
  },
  {
   "cell_type": "markdown",
   "metadata": {},
   "source": [
    "## ---------------------------- bool и условия ----------------------------"
   ]
  },
  {
   "cell_type": "code",
   "execution_count": 28,
   "metadata": {},
   "outputs": [
    {
     "name": "stdout",
     "output_type": "stream",
     "text": [
      "True\n",
      "<class 'bool'>\n",
      "False\n",
      "<class 'bool'>\n"
     ]
    }
   ],
   "source": [
    "a = True\n",
    "b = False\n",
    "\n",
    "print(a)\n",
    "print(type(a))\n",
    "\n",
    "print(b)\n",
    "print(type(b))\n"
   ]
  },
  {
   "cell_type": "code",
   "execution_count": 29,
   "metadata": {},
   "outputs": [
    {
     "name": "stdout",
     "output_type": "stream",
     "text": [
      "1\n",
      "2\n",
      "0\n"
     ]
    }
   ],
   "source": [
    "print(a + b)\n",
    "print(a + a)\n",
    "print(b + b)"
   ]
  },
  {
   "cell_type": "code",
   "execution_count": 33,
   "metadata": {},
   "outputs": [
    {
     "name": "stdout",
     "output_type": "stream",
     "text": [
      "1 0\n"
     ]
    }
   ],
   "source": [
    "print(int(a), int(b))"
   ]
  },
  {
   "cell_type": "code",
   "execution_count": 34,
   "metadata": {},
   "outputs": [
    {
     "name": "stdout",
     "output_type": "stream",
     "text": [
      "False\n",
      "True\n",
      "False\n",
      "\n",
      "True\n",
      "True\n",
      "False\n"
     ]
    }
   ],
   "source": [
    "print(True and False)\n",
    "print(True and True)\n",
    "print(False and False)\n",
    "print()\n",
    "print(True or False)\n",
    "print(True or True)\n",
    "print(False or False)"
   ]
  },
  {
   "cell_type": "markdown",
   "metadata": {},
   "source": [
    "##  ---------------------------- Условия ----------------------------"
   ]
  },
  {
   "cell_type": "code",
   "execution_count": 50,
   "metadata": {},
   "outputs": [
    {
     "name": "stdout",
     "output_type": "stream",
     "text": [
      "1\n",
      "<class 'int'>\n",
      "\n",
      "Да!\n"
     ]
    }
   ],
   "source": [
    "p = 1\n",
    "\n",
    "print(p)\n",
    "print(type(p))\n",
    "print()\n",
    "\n",
    "if p == 1:\n",
    "    print('Да!') # Перед функцией требуется поставить либо TAB либо 4 пробела\n",
    "elif p == 0:\n",
    "    print('Нет!') # Перед функцией требуется поставить либо TAB либо 4 пробела\n",
    "else:\n",
    "    print(\"Не уверен!\") # Перед функцией требуется поставить либо TAB либо 4 пробела"
   ]
  },
  {
   "cell_type": "markdown",
   "metadata": {},
   "source": [
    "## --------------- Расширенное решение с вводом ------------------"
   ]
  },
  {
   "cell_type": "code",
   "execution_count": 47,
   "metadata": {},
   "outputs": [
    {
     "name": "stdout",
     "output_type": "stream",
     "text": [
      "Введи p:\n",
      "222\n",
      "\n",
      "Вывод введенных данных\n",
      "p = 222\n",
      "<class 'int'>\n",
      "\n",
      "Вывод условия:\n",
      "Не уверен! не знаю чему равно p\n"
     ]
    }
   ],
   "source": [
    "print('Введи p:')\n",
    "p = input() # Запрос переменной\n",
    "p = int(p) # Изменение типа переменной к целому числу, так как переменная после ввода будет типа \"текст\"\n",
    "\n",
    "print()\n",
    "print('Вывод введенных данных')\n",
    "print('p =', p)\n",
    "print(type(p))\n",
    "print()\n",
    "\n",
    "print(\"Вывод условия:\")\n",
    "if p == 1:\n",
    "    print('Да! p = 1')\n",
    "elif p == 0:\n",
    "    print('Нет! p = 0')\n",
    "else:\n",
    "    print(\"Не уверен! не знаю чему равно p\")"
   ]
  },
  {
   "cell_type": "code",
   "execution_count": 51,
   "metadata": {},
   "outputs": [
    {
     "name": "stdout",
     "output_type": "stream",
     "text": [
      "Yes\n"
     ]
    }
   ],
   "source": [
    "x = (\"Yes\" if p == 1 else \"Нет или не уверен\") # Условие внутри одной строки\n",
    "print(x)"
   ]
  },
  {
   "cell_type": "markdown",
   "metadata": {},
   "source": [
    "## --------------- 2. None -----------------------"
   ]
  },
  {
   "cell_type": "code",
   "execution_count": 48,
   "metadata": {},
   "outputs": [
    {
     "name": "stdout",
     "output_type": "stream",
     "text": [
      "None\n",
      "<class 'NoneType'>\n"
     ]
    }
   ],
   "source": [
    "z = None\n",
    "print(z)\n",
    "print(type(z))"
   ]
  },
  {
   "cell_type": "markdown",
   "metadata": {},
   "source": [
    "## ----------------- 3. Строки --------------------"
   ]
  },
  {
   "cell_type": "code",
   "execution_count": 52,
   "metadata": {},
   "outputs": [
    {
     "name": "stdout",
     "output_type": "stream",
     "text": [
      "abc\n",
      "<class 'str'>\n"
     ]
    }
   ],
   "source": [
    "x = \"abc\" # Строковая переменная\n",
    "print(x)\n",
    "print(type(x))"
   ]
  },
  {
   "cell_type": "code",
   "execution_count": 53,
   "metadata": {},
   "outputs": [
    {
     "name": "stdout",
     "output_type": "stream",
     "text": [
      "Иван Иванов\n",
      "ИВАН ИВАНОВ\n",
      "иван иванов\n",
      "11\n",
      "\n",
      "И\n",
      "в\n",
      "Ива\n",
      "Иа\n",
      "\n",
      "в\n",
      "вонавИ навИ\n"
     ]
    }
   ],
   "source": [
    "a = \"Иван\"\n",
    "b = \"Иванов\"\n",
    "c = a + \" \" + b # Сложение строковых переменных соединяет их\n",
    "print(c)\n",
    "print(c.upper()) # Приводим сожержимое переменной к верхнему регистру\n",
    "print(c.lower()) # Приводим сожержимое переменной к нижнему регистру\n",
    "print(len(c)) # Выводим количество символов в переменной\n",
    "print()\n",
    "print(c[0]) # Выводим первый символ в переменной\n",
    "print(c[1]) # Выводим второй символ в переменной\n",
    "print(c[0:3]) # Выводим с 1 по 3 символ\n",
    "print(c[0:4:2]) # Выводим с 1 по 4 символ с шагом 2\n",
    "print()\n",
    "print(c[-1]) # Выводим первый символ с конца\n",
    "print(c[::-1]) # Выводим все символы задом наперед"
   ]
  },
  {
   "cell_type": "markdown",
   "metadata": {},
   "source": [
    "## ---------------------------- unicode -------------------------"
   ]
  },
  {
   "cell_type": "code",
   "execution_count": 54,
   "metadata": {},
   "outputs": [
    {
     "name": "stdout",
     "output_type": "stream",
     "text": [
      "abc\n",
      "<class 'str'>\n"
     ]
    }
   ],
   "source": [
    "x = u\"abc\"\n",
    "print(x)\n",
    "print(type(x))"
   ]
  },
  {
   "cell_type": "code",
   "execution_count": 55,
   "metadata": {},
   "outputs": [
    {
     "name": "stdout",
     "output_type": "stream",
     "text": [
      "Элеонора Домой <class 'str'>\n",
      "\n",
      "b'\\xd0\\xad\\xd0\\xbb\\xd0\\xb5\\xd0\\xbe\\xd0\\xbd\\xd0\\xbe\\xd1\\x80\\xd0\\xb0 \\xd0\\x94\\xd0\\xbe\\xd0\\xbc\\xd0\\xbe\\xd0\\xb9' <class 'bytes'>\n",
      "\n",
      "Элеонора Домой <class 'str'>\n",
      "\n",
      "Р­Р»РµРѕРЅРѕСЂР° Р”РѕРјРѕР№ <class 'str'>\n",
      "\n",
      "Элеонора Домой\n"
     ]
    }
   ],
   "source": [
    "x = u'Элеонора Домой'\n",
    "print(x, type(x))\n",
    "print()\n",
    "\n",
    "y = x.encode('utf-8')\n",
    "print(y, type(y))\n",
    "print()\n",
    "\n",
    "z = y.decode('utf-8')\n",
    "print(z, type(z))\n",
    "print()\n",
    "\n",
    "q =  y.decode('cp1251')\n",
    "print(q, type(q))\n",
    "print()\n",
    "\n",
    "z = str(x)\n",
    "print(z)"
   ]
  },
  {
   "cell_type": "markdown",
   "metadata": {},
   "source": [
    "## ---------------------- Сплиты --------------------------"
   ]
  },
  {
   "cell_type": "code",
   "execution_count": 56,
   "metadata": {},
   "outputs": [
    {
     "name": "stdout",
     "output_type": "stream",
     "text": [
      "['Иванов', 'Иван', 'Иваныч']\n",
      "<class 'list'>\n"
     ]
    }
   ],
   "source": [
    "split_text = \"Иванов Иван Иваныч\".split(' ') # Делим строку по пробелу и получаем раздельные значения в списке\n",
    "print(split_text) # При применении сплита мы получаем тип \"список\"-\"list\"\n",
    "print(type(split_text))"
   ]
  },
  {
   "cell_type": "code",
   "execution_count": 57,
   "metadata": {},
   "outputs": [
    {
     "name": "stdout",
     "output_type": "stream",
     "text": [
      "['Иванов', 'Иван', 'Иваныч']\n"
     ]
    }
   ],
   "source": [
    "print(\"Иванов Иван Иваныч\".split(\" \")) # Сплит внутри Принта"
   ]
  },
  {
   "cell_type": "markdown",
   "metadata": {},
   "source": [
    "**Задача 2.** При изучении базы отзывов о работе тех поддержки вы считали из базы следующие строки:\n",
    "\n",
    "s1 = \"\"\"Время: 10:34 \n",
    "Дата: 20.05.2017 \n",
    "Оценка: 1 \n",
    "Длительность разговора (мин.): 0:32 \n",
    "Комментарий: Общение с сотрудником вашей техподдержки мне не понравилось. Раньше всегда отвечала девушка с приятным голосом, а сегодня какой-то мужчина. Совсем никуда не годится, примите меры!!!\n",
    "\"\"\"\n",
    "\n",
    "s2 = \"\"\"Время: 9:20 \n",
    "Дата: 21.05.2017 \n",
    "Оценка: 5 \n",
    "Длительность разговора (мин.): 25:07 \n",
    "Комментарий: С моей проблемой мне помогли, большое спасибо!\n",
    "\"\"\"\n",
    "\n",
    "Попробуйте сделать то, что вам может потребоваться при обработке отзывов:\n",
    "\n",
    "1. Разбить на строки\n",
    "1. Соединить строки через другие разделители (например, запятые)\n",
    "1. Получить значение поля \"время\"\n",
    "1. Получить пары \"название поля - значение\""
   ]
  },
  {
   "cell_type": "code",
   "execution_count": null,
   "metadata": {},
   "outputs": [],
   "source": [
    "# Чтобы присвоить переменным значения в несколько строчек надо все взять в тройные кавычки \"\"\""
   ]
  },
  {
   "cell_type": "code",
   "execution_count": 1,
   "metadata": {},
   "outputs": [],
   "source": [
    "s1 = \"\"\"Время: 10:34\n",
    "Дата: 20.05.2017\n",
    "Оценка: 1\n",
    "Длительность разговора (мин.): 0:32\n",
    "Комментарий: Общение с сотрудником вашей техподдержки мне не понравилось. Раньше всегда отвечала девушка с приятным голосом, а сегодня какой-то мужчина. Совсем никуда не годится, примите меры!!!\"\"\"\n",
    "\n",
    "s2 = \"\"\"Время: 9:20\n",
    "Дата: 21.05.2017\n",
    "Оценка: 5\n",
    "Длительность разговора (мин.): 25:07\n",
    "Комментарий: С моей проблемой мне помогли, большое спасибо!\"\"\""
   ]
  },
  {
   "cell_type": "code",
   "execution_count": 2,
   "metadata": {
    "scrolled": false
   },
   "outputs": [
    {
     "name": "stdout",
     "output_type": "stream",
     "text": [
      "Время: 10:34\n",
      "Дата: 20.05.2017\n",
      "Оценка: 1\n",
      "Длительность разговора (мин.): 0:32\n",
      "Комментарий: Общение с сотрудником вашей техподдержки мне не понравилось. Раньше всегда отвечала девушка с приятным голосом, а сегодня какой-то мужчина. Совсем никуда не годится, примите меры!!! Время: 9:20\n",
      "Дата: 21.05.2017\n",
      "Оценка: 5\n",
      "Длительность разговора (мин.): 25:07\n",
      "Комментарий: С моей проблемой мне помогли, большое спасибо!\n",
      "<class 'str'>\n"
     ]
    }
   ],
   "source": [
    "print(s1, s2)\n",
    "print(type(s1))"
   ]
  },
  {
   "cell_type": "code",
   "execution_count": 3,
   "metadata": {},
   "outputs": [
    {
     "name": "stdout",
     "output_type": "stream",
     "text": [
      "Длительность разговора (мин.): 0:32\n",
      "<class 'str'>\n"
     ]
    }
   ],
   "source": [
    "print(s1.split(\"\\n\")[3]) # Показать четвертый элемент в переменной, при применении сплита (считается с 0)\n",
    "print(type(s1)) # Переменная остается быть строковой, так как мы ее не меняли"
   ]
  },
  {
   "cell_type": "code",
   "execution_count": 4,
   "metadata": {},
   "outputs": [
    {
     "name": "stdout",
     "output_type": "stream",
     "text": [
      "['Время: 10:34', 'Дата: 20.05.2017', 'Оценка: 1', 'Длительность разговора (мин.): 0:32', 'Комментарий: Общение с сотрудником вашей техподдержки мне не понравилось. Раньше всегда отвечала девушка с приятным голосом, а сегодня какой-то мужчина. Совсем никуда не годится, примите меры!!!']\n",
      "<class 'list'>\n"
     ]
    }
   ],
   "source": [
    "splitted1 = s1.split('\\n') # Создаем новую переменную \"Список\" путем разбития по переносу строки, за это отвеает спецсимвол \\n\n",
    "print(splitted1)\n",
    "print(type(splitted1))"
   ]
  },
  {
   "cell_type": "code",
   "execution_count": 5,
   "metadata": {},
   "outputs": [
    {
     "name": "stdout",
     "output_type": "stream",
     "text": [
      "Время: 10:34,Дата: 20.05.2017,Оценка: 1,Длительность разговора (мин.): 0:32,Комментарий: Общение с сотрудником вашей техподдержки мне не понравилось. Раньше всегда отвечала девушка с приятным голосом, а сегодня какой-то мужчина. Совсем никуда не годится, примите меры!!!\n",
      "<class 'str'>\n"
     ]
    }
   ],
   "source": [
    "s3 = \",\".join(splitted1) # Создание новой строковой переменной из списка, с заменой разделителя на \",\"\n",
    "print(s3) \n",
    "print(type(s3))"
   ]
  },
  {
   "cell_type": "code",
   "execution_count": 8,
   "metadata": {
    "scrolled": true
   },
   "outputs": [
    {
     "name": "stdout",
     "output_type": "stream",
     "text": [
      "abc\n",
      "abc\n"
     ]
    }
   ],
   "source": [
    "print(\"abc\\nabc\") # Перенос строки внутри одного Принта, чтобы прописать симфол \\n надо написать так \\\\n"
   ]
  },
  {
   "cell_type": "code",
   "execution_count": 9,
   "metadata": {},
   "outputs": [
    {
     "name": "stdout",
     "output_type": "stream",
     "text": [
      "Добрый день, Иван, вам нужно пополнить счет\n",
      "Добрый день,  Иван , вам нужно пополнить счет\n"
     ]
    }
   ],
   "source": [
    "name = \"Иван\"\n",
    "s5 = \"Добрый день, \" + name + \", вам нужно пополнить счет\" # Предпочтительное написание, так как нет лишних отступов\n",
    "print(s5)\n",
    "print(\"Добрый день, \",name, \", вам нужно пополнить счет\")"
   ]
  },
  {
   "cell_type": "code",
   "execution_count": 10,
   "metadata": {
    "scrolled": false
   },
   "outputs": [
    {
     "name": "stdout",
     "output_type": "stream",
     "text": [
      "Время: 10:34\n",
      "Дата: 20.05.2017\n",
      "Оценка: 1\n",
      "Длительность разговора (мин.): 0:32\n",
      "Комментарий: Общение с сотрудником вашей техподдержки мне не понравилось. Раньше всегда отвечала девушка с приятным голосом, а сегодня какой-то мужчина. Совсем никуда не годится, примите меры!!!\n",
      "\n",
      "Время: 9:20\n",
      "Дата: 21.05.2017\n",
      "Оценка: 5\n",
      "Длительность разговора (мин.): 25:07\n",
      "Комментарий: С моей проблемой мне помогли, большое спасибо!\n"
     ]
    }
   ],
   "source": [
    "print(s1)\n",
    "print()\n",
    "print(s2)"
   ]
  },
  {
   "cell_type": "code",
   "execution_count": 15,
   "metadata": {
    "scrolled": true
   },
   "outputs": [
    {
     "name": "stdout",
     "output_type": "stream",
     "text": [
      "9:20\n",
      "9\n",
      "20\n"
     ]
    }
   ],
   "source": [
    "time = s2.split('\\n')[0][7:] # Вычленяем нужные данные с помощью сплитов. Данное решение не универсальное, см. ниже\n",
    "print(time) #сплитом выбираем с переменной первую строку и все символы начиная с восьмого\n",
    "h = time[:1] # H = все значения до 2 символа\n",
    "m = time[-2:] # М = все значения начиная с 2 символа с конца\n",
    "print(h)\n",
    "print(m)"
   ]
  },
  {
   "cell_type": "code",
   "execution_count": 12,
   "metadata": {
    "scrolled": true
   },
   "outputs": [
    {
     "name": "stdout",
     "output_type": "stream",
     "text": [
      "['Время', '9:20']\n",
      "Время\n",
      "9:20\n"
     ]
    }
   ],
   "source": [
    "splitted_line = s2.split('\\n')[0].split(': ') # Берем сплитом первую строку от переменной S2 и сплитим ее по знаку \": \"\n",
    "field_name = splitted_line[0] # Так как splitted_line у нас уже список мы берем первый элемент\n",
    "field_value = splitted_line[1] # Берем второй элемент списка из splitted_line\n",
    "print(splitted_line)  # Выводим сам список для наглядности\n",
    "print(field_name)\n",
    "print(field_value)"
   ]
  },
  {
   "cell_type": "markdown",
   "metadata": {},
   "source": [
    "##  ---------------- Массивы и циклы ---------------------"
   ]
  },
  {
   "cell_type": "markdown",
   "metadata": {},
   "source": [
    "## list"
   ]
  },
  {
   "cell_type": "code",
   "execution_count": 26,
   "metadata": {},
   "outputs": [
    {
     "name": "stdout",
     "output_type": "stream",
     "text": [
      "[33450, 34010, 33990, 33200]\n",
      "<class 'list'>\n"
     ]
    }
   ],
   "source": [
    "saled_goods_count = [33450, 34010, 33990, 33200] # Создать список делается с квадратными скобками\n",
    "print(saled_goods_count) # Вывести список\n",
    "print(type(saled_goods_count))"
   ]
  },
  {
   "cell_type": "code",
   "execution_count": 27,
   "metadata": {
    "scrolled": true
   },
   "outputs": [
    {
     "name": "stdout",
     "output_type": "stream",
     "text": [
      "[33450, 34010, 33990, 33200, 34000]\n",
      "<class 'list'>\n",
      "<class 'int'>\n"
     ]
    }
   ],
   "source": [
    "saled_goods_count.append(34000) # Добавить новый элемент в конец списка\n",
    "print(saled_goods_count) # Вывести список\n",
    "print(type(saled_goods_count)) # Вывести тип переменной saled_goods_count\n",
    "print(type(saled_goods_count[0])) # Вывести тип первого элемента списка"
   ]
  },
  {
   "cell_type": "code",
   "execution_count": 18,
   "metadata": {
    "scrolled": true
   },
   "outputs": [
    {
     "name": "stdout",
     "output_type": "stream",
     "text": [
      "['Иван Иваныч', 'Медиум', 500000, 12, True]\n",
      "Иван Иваныч\n",
      "Медиум\n",
      "12\n",
      "['Иван Иваныч', 'Медиум', 500000, 12, True]\n",
      "['Иван Иваныч', 'Медиум', 500000, 12, True]\n",
      "['Иван Иваныч', 500000, True]\n",
      "['Медиум', 500000, 12, True]\n",
      "['Иван Иваныч', 'Медиум', 500000, 12]\n",
      "['Иван Иваныч', 'Медиум', 500000, 12, True, 'Дополнительный элемент']\n",
      "['Иван Иваныч', 'Медиум', 500000, 12, 'Дополнительный элемент']\n"
     ]
    }
   ],
   "source": [
    "features = ['Иван Иваныч', \"Медиум\", 500000, 12, True]\n",
    "print(features) # Вывести все элементы\n",
    "print(features[0]) # Вывести первый элемент\n",
    "print(features[1]) # Вывести второй элемент\n",
    "print(features[3]) # Вывести четвертый элемент\n",
    "print(features[0:5]) # Вывести элементы с 1 по 6\n",
    "print(features[:5]) # Вывести все элементы до шестого\n",
    "print(features[::2]) # Вывести все элементы с шагом 2\n",
    "print(features[1:]) # Вывести элементы начиная с 2\n",
    "print(features[:-1]) # Вывести все элементы не включая последний\n",
    "features.append(\"Дополнительный элемент\") # Добавить новый элемент в конец списка\n",
    "print(features)\n",
    "del features[-2] # Удалить элемент списка, второй с конца\n",
    "print(features)"
   ]
  },
  {
   "cell_type": "markdown",
   "metadata": {},
   "source": [
    "## Циклы"
   ]
  },
  {
   "cell_type": "code",
   "execution_count": 38,
   "metadata": {},
   "outputs": [
    {
     "name": "stdout",
     "output_type": "stream",
     "text": [
      "0 1 2 3 4 5 6 7 8 9 \n",
      "0123456789"
     ]
    }
   ],
   "source": [
    "for i in range(10): # цикл от 0 до 10 (не включая 10) с шагом 1\n",
    "    print(i, end=\" \") # end= задает окончание строки принудительно, по умолчанию это перенос строки \\n\n",
    "print()\n",
    "for i in range(10):\n",
    "    print(i, end=\"\") # end= задает окончание строки принудительно, по умолчанию это перенос строки \\n"
   ]
  },
  {
   "cell_type": "code",
   "execution_count": 29,
   "metadata": {},
   "outputs": [
    {
     "name": "stdout",
     "output_type": "stream",
     "text": [
      "2 4 6 8 "
     ]
    }
   ],
   "source": [
    "for i in range(2, 10, 2): # цикл от 2 до 10 (не включая 10) с шагом 2\n",
    "    print(i, end=\" \")"
   ]
  },
  {
   "cell_type": "code",
   "execution_count": 42,
   "metadata": {},
   "outputs": [
    {
     "name": "stdout",
     "output_type": "stream",
     "text": [
      "<class 'range'>\n",
      "range(2, 10)\n",
      "\n",
      "<class 'list'>\n",
      "[2, 3, 4, 5, 6, 7, 8, 9]\n"
     ]
    }
   ],
   "source": [
    "x = range(2, 10) # создали генератор от 2 до 10 (в отличии отсписков генератор не хранит значения в памяти)\n",
    "print(type(x))\n",
    "print(x)\n",
    "print()\n",
    "x = list(x) # сконвертировали генератор в список, при этом все значения заняли память\n",
    "print(type(x))\n",
    "print(x)"
   ]
  },
  {
   "cell_type": "code",
   "execution_count": 40,
   "metadata": {
    "scrolled": true
   },
   "outputs": [
    {
     "name": "stdout",
     "output_type": "stream",
     "text": [
      "2 3 5 7 11 "
     ]
    }
   ],
   "source": [
    "for x in [2, 3, 5, 7, 11]: # цикл от заданного списка\n",
    "    print(x, end=\" \")"
   ]
  },
  {
   "cell_type": "code",
   "execution_count": 50,
   "metadata": {},
   "outputs": [
    {
     "name": "stdout",
     "output_type": "stream",
     "text": [
      "Время 10:34\n",
      "Дата 20.05.2017\n",
      "Оценка 1\n",
      "Длительность разговора (мин.) 0:32\n",
      "Комментарий Общение с сотрудником вашей техподдержки мне не понравилось. Раньше всегда отвечала девушка с приятным голосом, а сегодня какой-то мужчина. Совсем никуда не годится, примите меры!!!\n",
      "\n",
      "Время 9:20\n",
      "Дата 21.05.2017\n",
      "Оценка 5\n",
      "Длительность разговора (мин.) 25:07\n",
      "Комментарий С моей проблемой мне помогли, большое спасибо!\n"
     ]
    }
   ],
   "source": [
    "s1 = \"\"\"Время: 10:34\n",
    "Дата: 20.05.2017\n",
    "Оценка: 1\n",
    "Длительность разговора (мин.): 0:32\n",
    "Комментарий: Общение с сотрудником вашей техподдержки мне не понравилось. Раньше всегда отвечала девушка с приятным голосом, а сегодня какой-то мужчина. Совсем никуда не годится, примите меры!!!\"\"\"\n",
    "\n",
    "s2 = \"\"\"Время: 9:20\n",
    "Дата: 21.05.2017\n",
    "Оценка: 5\n",
    "Длительность разговора (мин.): 25:07\n",
    "Комментарий: С моей проблемой мне помогли, большое спасибо!\"\"\"\n",
    "\n",
    "for line in s1.split('\\n'): # пробегаем по значениям переменной s1. Срабатывает как \"для каждой строчки из s1\"\n",
    "    if line: # Проверяем нет ли пустой строки после данных. Если line > 0 то True, если < 0 то False (Это больше защита от дурака)\n",
    "        splitted_line = line.split(': ') # создаем список splitted_line из каждоый строчки по разделителю \": \"\n",
    "        field_name = splitted_line[0] # Берем первый элемент списка\n",
    "        field_value = splitted_line[1] # Берем второй элемент списка\n",
    "        print(field_name, end=\" \")\n",
    "        print(field_value)\n",
    "\n",
    "print()\n",
    "\n",
    "for line in s2.split('\\n'): # пробегаем по значениям переменной s2. Срабатывает как \"для каждой строчки из s2\"\n",
    "    if line: # Проверяем нет ли пустой строки после данных. Если line > 0 то True, если < 0 то False (Это больше защита от дурака)\n",
    "        splitted_line = line.split(': ') # создаем список splitted_line из каждоый строчки по разделителю \": \"\n",
    "        field_name = splitted_line[0] # Берем первый элемент списка\n",
    "        field_value = splitted_line[1] # Берем второй элемент списка\n",
    "        print(field_name, end=\" \")\n",
    "        print(field_value)"
   ]
  },
  {
   "cell_type": "markdown",
   "metadata": {},
   "source": [
    "## list comprehensions и генераторы"
   ]
  },
  {
   "cell_type": "code",
   "execution_count": 58,
   "metadata": {},
   "outputs": [
    {
     "name": "stdout",
     "output_type": "stream",
     "text": [
      "<class 'list'>\n",
      "[4, 25, 64, 121]\n"
     ]
    }
   ],
   "source": [
    "x = [k ** 2 for k in range(2, 12, 3)] # Генерим список на лету, внутри цикл.\n",
    "print(type(x))\n",
    "print(x)"
   ]
  },
  {
   "cell_type": "code",
   "execution_count": 57,
   "metadata": {},
   "outputs": [
    {
     "name": "stdout",
     "output_type": "stream",
     "text": [
      "<class 'list'>\n",
      "[4, 25, 121]\n"
     ]
    }
   ],
   "source": [
    "x = [k ** 2 for k in range(2, 12, 3) if k != 8]\n",
    "print(type(x))\n",
    "print(x)"
   ]
  },
  {
   "cell_type": "code",
   "execution_count": 56,
   "metadata": {},
   "outputs": [
    {
     "name": "stdout",
     "output_type": "stream",
     "text": [
      "<class 'generator'>\n",
      "<generator object <genexpr> at 0x000001A688ABF270>\n",
      "\n",
      "4 25 64 121 "
     ]
    }
   ],
   "source": [
    "x = (k ** 2 for k in range(2, 12, 3))\n",
    "print(type(x))\n",
    "print(x)\n",
    "print()\n",
    "for k in x:\n",
    "    print(k, end=\" \")"
   ]
  },
  {
   "cell_type": "code",
   "execution_count": 59,
   "metadata": {},
   "outputs": [
    {
     "name": "stdout",
     "output_type": "stream",
     "text": [
      "4 25 64 121 "
     ]
    }
   ],
   "source": [
    "for k in x:\n",
    "    print(k, end=\" \")"
   ]
  },
  {
   "cell_type": "markdown",
   "metadata": {},
   "source": [
    "## Продолжение задачи 2: пункт 4 с list compregension"
   ]
  },
  {
   "cell_type": "code",
   "execution_count": 60,
   "metadata": {},
   "outputs": [
    {
     "name": "stdout",
     "output_type": "stream",
     "text": [
      "Время: 10:34\n",
      "Дата: 20.05.2017\n",
      "Оценка: 1\n",
      "Длительность разговора (мин.): 0:32\n",
      "Комментарий: Общение с сотрудником вашей техподдержки мне не понравилось. Раньше всегда отвечала девушка с приятным голосом, а сегодня какой-то мужчина. Совсем никуда не годится, примите меры!!!\n",
      "\n",
      "[['Время', '10:34'], ['Дата', '20.05.2017'], ['Оценка', '1'], ['Длительность разговора (мин.)', '0:32'], ['Комментарий', 'Общение с сотрудником вашей техподдержки мне не понравилось. Раньше всегда отвечала девушка с приятным голосом, а сегодня какой-то мужчина. Совсем никуда не годится, примите меры!!!']]\n"
     ]
    }
   ],
   "source": [
    "print(s1)\n",
    "print()\n",
    "\n",
    "print([line.split(': ') for line in s1.split('\\n') if line])"
   ]
  },
  {
   "cell_type": "code",
   "execution_count": 65,
   "metadata": {
    "scrolled": true
   },
   "outputs": [
    {
     "name": "stdout",
     "output_type": "stream",
     "text": [
      "Время: 9:20\n",
      "Дата: 21.05.2017\n",
      "Оценка: 5\n",
      "Длительность разговора (мин.): 25:07\n",
      "Комментарий: С моей проблемой мне помогли, большое спасибо!\n",
      "\n",
      "Время 9:20\n",
      "Дата 21.05.2017\n",
      "Оценка 5\n",
      "Длительность разговора (мин.) 25:07\n",
      "Комментарий С моей проблемой мне помогли, большое спасибо!\n"
     ]
    }
   ],
   "source": [
    "print(s2)\n",
    "print()\n",
    "\n",
    "print(\"\\n\".join([\" \".join(line.split(': ')) for line in s2.split('\\n') if line]))"
   ]
  },
  {
   "cell_type": "markdown",
   "metadata": {},
   "source": [
    "## Кортежи - tuple"
   ]
  },
  {
   "cell_type": "code",
   "execution_count": 66,
   "metadata": {},
   "outputs": [
    {
     "name": "stdout",
     "output_type": "stream",
     "text": [
      "<class 'tuple'>\n",
      "('Иван Иваныч', 'Medium', 5000, 12, True)\n",
      "(5000, 12, True)\n",
      "(12, True)\n",
      "('Иван Иваныч', 'Medium')\n"
     ]
    }
   ],
   "source": [
    "features_tuple = (\"Иван Иваныч\", \"Medium\", 5000, 12, True) # кортежи с круглыми скобками\n",
    "print(type(features_tuple))\n",
    "print(features_tuple)\n",
    "print(features_tuple[2:])\n",
    "print(features_tuple[-2:])\n",
    "print(features_tuple[:2])\n",
    "\n",
    "# В кортежи нельзя добавить дополнительные элементы через оператор .append"
   ]
  },
  {
   "cell_type": "markdown",
   "metadata": {},
   "source": [
    "## ------------------ 4. Множества и словари --------------------\n",
    "\n",
    "### set (множества)"
   ]
  },
  {
   "cell_type": "code",
   "execution_count": 68,
   "metadata": {},
   "outputs": [
    {
     "name": "stdout",
     "output_type": "stream",
     "text": [
      "<class 'set'>\n",
      "{'Ivan', 'Константин', 'Petr'}\n",
      "\n",
      "True\n",
      "False\n",
      "\n",
      "{'Ivan', 'Константин', 'Petr', 'Арсений Петрович'}\n",
      "{'Ivan', 'Константин', 'Petr', 'Арсений Петрович'}\n",
      "{'Константин', 'Petr', 'Арсений Петрович'}\n"
     ]
    }
   ],
   "source": [
    "names = {\"Ivan\", \"Petr\", \"Константин\"} # Не может содержать повторяющихся элементов\n",
    "print(type(names))\n",
    "print(names)\n",
    "print()\n",
    "print(\"Константин\" in names) # Проверить если ли такой элемент в множестве\n",
    "print(\"Петя\" in names) # Проверить если ли такой элемент в множестве\n",
    "print()\n",
    "names.add(\"Арсений Петрович\") # Добавили Арсения Петровича в множество names\n",
    "print(names)\n",
    "names.add(\"Арсений Петрович\") # Второй раз Арсений Петрович не добавится, множество содержит только уникальные элементы\n",
    "print(names)\n",
    "names.remove(\"Ivan\") # Удалили запись Ivan из множества\n",
    "print(names)\n"
   ]
  },
  {
   "cell_type": "markdown",
   "metadata": {},
   "source": [
    "### Проверка скорости работы множества и списка"
   ]
  },
  {
   "cell_type": "code",
   "execution_count": 13,
   "metadata": {},
   "outputs": [
    {
     "name": "stdout",
     "output_type": "stream",
     "text": [
      "<class 'range'>\n",
      "range(0, 20)\n",
      "<class 'list'>\n",
      "[0, 1, 2, 3, 4, 5, 6, 7, 8, 9, 10, 11, 12, 13, 14, 15, 16, 17, 18, 19]\n",
      "<class 'set'>\n",
      "{0, 1, 2, 3, 4, 5, 6, 7, 8, 9, 10, 11, 12, 13, 14, 15, 16, 17, 18, 19}\n",
      "\n",
      "Теперь проверяем насколько быстро отрабатывают данные типы\n",
      "\n",
      "Список\n",
      "[0, 1, 2, 3, 4]\n",
      "[9999995, 9999996, 9999997, 9999998, 9999999]\n",
      "\n"
     ]
    }
   ],
   "source": [
    "a = range(20) # Это массив (range)\n",
    "b = list(range(20)) # Это список (list)\n",
    "c = set(range(20)) # А это множество (set)\n",
    "print(type(a))\n",
    "print(a)\n",
    "print(type(b))\n",
    "print(b)\n",
    "print(type(c))\n",
    "print(c)\n",
    "print()\n",
    "print(\"Теперь проверяем насколько быстро отрабатывают данные типы\")\n",
    "print()\n",
    "x = list(range(10000000)) # Это список (list)\n",
    "z = set(range(10000000)) # А это множество (set)\n",
    "print(\"Список\")\n",
    "print(x[:5])\n",
    "print(x[-5:])\n",
    "print()"
   ]
  },
  {
   "cell_type": "code",
   "execution_count": 14,
   "metadata": {
    "scrolled": true
   },
   "outputs": [
    {
     "name": "stdout",
     "output_type": "stream",
     "text": [
      "True\n",
      "Wall time: 108 ms\n"
     ]
    }
   ],
   "source": [
    "%%time\n",
    "print(9999999 in x)"
   ]
  },
  {
   "cell_type": "code",
   "execution_count": 15,
   "metadata": {},
   "outputs": [
    {
     "name": "stdout",
     "output_type": "stream",
     "text": [
      "True\n",
      "Wall time: 0 ns\n"
     ]
    }
   ],
   "source": [
    "%%time\n",
    "print(9999999 in z)"
   ]
  },
  {
   "cell_type": "markdown",
   "metadata": {},
   "source": [
    "### dict (словари)"
   ]
  },
  {
   "cell_type": "code",
   "execution_count": 2,
   "metadata": {},
   "outputs": [
    {
     "name": "stdout",
     "output_type": "stream",
     "text": [
      "{'I': 3, 'am': 1}\n",
      "3\n",
      "\n",
      "{'LOL': 2, 'Fall': 1}\n",
      "\n",
      "{'fuck': 3.4, 5: 7.8, 'ugog': False}\n",
      "\n",
      "{'fuck': 3.4, 5: 7.8, 'ugog': False, (1, 2, 5): [4, 5, 7]}\n",
      "\n",
      "{'fuck': 3.4, 5: 7.8, 'ugog': False, (1, 2, 5): [4, 5, 7], 'I': 2, 'am': 1}\n"
     ]
    }
   ],
   "source": [
    "words_frequencies = dict()\n",
    "words_frequencies[\"I\"] = 2\n",
    "words_frequencies[\"am\"] = 1\n",
    "words_frequencies[\"I\"] += 1\n",
    "\n",
    "print(words_frequencies)\n",
    "print(words_frequencies[\"I\"])\n",
    "print()\n",
    "\n",
    "words_frequencies = {\"LOL\": 2, \"Fall\": 1}\n",
    "print(words_frequencies)\n",
    "print()\n",
    "\n",
    "words_frequencies = {\"fuck\": 3.4, 5: 7.8, \"ugog\": False}\n",
    "print(words_frequencies)\n",
    "print()\n",
    "words_frequencies[(1,2,5)] = [4, 5, 7]\n",
    "print(words_frequencies)\n",
    "print()\n",
    "words_frequencies[\"I\"] = 2\n",
    "words_frequencies[\"am\"] = 1\n",
    "print(words_frequencies)\n"
   ]
  },
  {
   "cell_type": "code",
   "execution_count": null,
   "metadata": {},
   "outputs": [],
   "source": []
  }
 ],
 "metadata": {
  "kernelspec": {
   "display_name": "Python 3 (ipykernel)",
   "language": "python",
   "name": "python3"
  },
  "language_info": {
   "codemirror_mode": {
    "name": "ipython",
    "version": 3
   },
   "file_extension": ".py",
   "mimetype": "text/x-python",
   "name": "python",
   "nbconvert_exporter": "python",
   "pygments_lexer": "ipython3",
   "version": "3.9.7"
  }
 },
 "nbformat": 4,
 "nbformat_minor": 4
}
