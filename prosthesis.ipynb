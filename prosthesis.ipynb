{
 "cells": [
  {
   "cell_type": "markdown",
   "id": "fb8c5c9e",
   "metadata": {},
   "source": [
    "\n",
    "### [Строки](#string)\n",
    "- [Массовый вызов методов строк для переименования заголовков DF](#string_01)\n",
    "\n",
    "### [Циклы](#cycle)\n",
    "- [Обратный цикл перебора словаря](#cycle_01)\n",
    "- [Замена дубликатов в DF (простая)](#cycle_02)\n",
    "- [Замена дубликатов в DF (улучшенная)](#cycle_03)\n",
    "- [Перебор комбинации значений из двух списков](#cycle_04)\n",
    "\n",
    "### Распаковка списков\n",
    "\n",
    "### [Условия](#if_else)\n",
    "- [try... except](#if_else_01)\n",
    "\n",
    "### [Функции](#function)\n",
    "\n",
    "### Генераторы списков\n",
    "\n",
    "### OS\n"
   ]
  },
  {
   "cell_type": "markdown",
   "id": "bb8cd008",
   "metadata": {},
   "source": [
    "<a id='string'></a>\n",
    "<div style=\"border:solid orange 2px; padding: 40px\">\n",
    "    <h1>Строки</h1>\n",
    "</div>"
   ]
  },
  {
   "cell_type": "markdown",
   "id": "f973d3ee",
   "metadata": {},
   "source": [
    "### Массовый вызов методов строк для переименования заголовков DF <a id='string_01'></a>"
   ]
  },
  {
   "cell_type": "code",
   "execution_count": 72,
   "id": "5d4caec3",
   "metadata": {},
   "outputs": [
    {
     "name": "stdout",
     "output_type": "stream",
     "text": [
      "Index(['  userID', 'Track', 'artist', 'genre', '  City  ', 'time', 'Day'], dtype='object')\n",
      "Index(['userid', 'track', 'artist', 'genre', 'city', 'time', 'day'], dtype='object')\n"
     ]
    }
   ],
   "source": [
    "import pandas as pd\n",
    "df = pd.read_csv('datasets/yandex_music_project.csv')\n",
    "print(df.columns)\n",
    "\n",
    "# __________Начало___________\n",
    "df.columns = df.columns.str.strip().str.lower().str.replace('с_значение_1', 'на_значение_2')\n",
    "# __________Конец___________\n",
    "\n",
    "print(df.columns)"
   ]
  },
  {
   "cell_type": "markdown",
   "id": "ef43143f",
   "metadata": {},
   "source": [
    "<a id='cycle'></a>\n",
    "<div style=\"border:solid orange 2px; padding: 40px\">\n",
    "    <h1>Циклы</h1>\n",
    "</div>"
   ]
  },
  {
   "cell_type": "markdown",
   "id": "4b5645a4",
   "metadata": {},
   "source": [
    "<a id='cycle_01'></a>\n",
    "<div class=\"alert alert-success\">\n",
    "    <h3>Обратный цикл перебора словаря</h3>\n",
    "</div>"
   ]
  },
  {
   "cell_type": "code",
   "execution_count": 6,
   "id": "853144d9",
   "metadata": {
    "scrolled": true
   },
   "outputs": [
    {
     "name": "stdout",
     "output_type": "stream",
     "text": [
      "Славо -> Слово\n",
      "Слуво -> Слово\n",
      "Сливо -> Слово\n",
      "Кинь -> Огонь\n",
      "Конь -> Огонь\n"
     ]
    }
   ],
   "source": [
    "test_dict = {\"Слово\": ['Славо', \"Слуво\", \"Сливо\"], \"Огонь\": [\"Кинь\", \"Конь\"]}\n",
    "for item in test_dict.items():\n",
    "    for val in item[1]:\n",
    "        print(val, \"->\", item[0])"
   ]
  },
  {
   "cell_type": "markdown",
   "id": "5d040d51",
   "metadata": {},
   "source": [
    "<a id='cycle_02'></a>\n",
    "<div class=\"alert alert-success\">\n",
    "    <h3>Замена дубликатов в DF (простая)</h3>\n",
    "</div>"
   ]
  },
  {
   "cell_type": "code",
   "execution_count": 82,
   "id": "49db305d",
   "metadata": {},
   "outputs": [
    {
     "name": "stdout",
     "output_type": "stream",
     "text": [
      "['hip', 'hip-hop', 'hiphop', 'hop', 'triphop']\n",
      "['hiphop', 'triphop']\n"
     ]
    }
   ],
   "source": [
    "import pandas as pd\n",
    "df = pd.read_csv('datasets/yandex_music_project.csv')\n",
    "df.fillna('Нету', inplace=True)\n",
    "print(list(filter(lambda x: 'hip' in x or 'hop' in x, df['genre'].sort_values().unique())))\n",
    "\n",
    "# __________Начало___________\n",
    "def replace_wrong_genres(wrong_genres, correct_genre):\n",
    "    for wrong_genre in wrong_genres:\n",
    "        df['genre'] = df['genre'].replace(wrong_genre, correct_genre)\n",
    "\n",
    "replace_wrong_genres(['hip-hop', 'hip', 'hop'], 'hiphop')\n",
    "# __________Конец___________\n",
    "\n",
    "print(list(filter(lambda x: 'hip' in x or 'hop' in x, df['genre'].sort_values().unique())))"
   ]
  },
  {
   "cell_type": "markdown",
   "id": "141b9bc5",
   "metadata": {},
   "source": [
    "<a id='cycle_03'></a>\n",
    "<div class=\"alert alert-success\">\n",
    "    <h3>Замена дубликатов в DF (улучшеная)</h3>\n",
    "</div>"
   ]
  },
  {
   "cell_type": "code",
   "execution_count": 67,
   "id": "27d90691",
   "metadata": {},
   "outputs": [
    {
     "name": "stdout",
     "output_type": "stream",
     "text": [
      "['electronic', 'hip', 'hip-hop', 'hiphop', 'hop', 'loungeelectronic', 'popelectronic', 'triphop', 'электроника']\n",
      "['electronic', 'hiphop', 'loungeelectronic', 'popelectronic', 'triphop']\n"
     ]
    }
   ],
   "source": [
    "import pandas as pd\n",
    "df = pd.read_csv('datasets/yandex_music_project.csv')\n",
    "df.fillna('Нету', inplace=True)\n",
    "print(list(filter(lambda x: 'hip' in x or 'hop' in x or 'эл' in x or 'electronic' in x, df['genre'].sort_values().unique())))\n",
    "\n",
    "# __________Начало___________\n",
    "def replace_wrong_genres_upgrade(genres_duplicates): # принимаем на вход словарь с данными о дубликатах\n",
    "    for item in genres_duplicates.items(): # обходим каждый элемент словаря, распаковывая их в кортеж\n",
    "        for val in item[1]: # в кортеже создаем цикл на обход списка (по сути это значение ключа словаря со списком дубликатов)\n",
    "            df['genre'] = df['genre'].replace(val, item[0]) # заменяем каждый дубликат на верное значение (ключ словаря)\n",
    "\n",
    "duplicates_dict = {'hiphop': ['hip-hop', 'hip', 'hop'], 'electronic': ['электроника']} # наборов может быть сколько угодно\n",
    "replace_wrong_genres_upgrade(duplicates_dict)\n",
    "# __________Конец___________\n",
    "\n",
    "print(list(filter(lambda x: 'hip' in x or 'hop' in x or 'эл' in x or 'electronic' in x, df['genre'].sort_values().unique())))"
   ]
  },
  {
   "cell_type": "markdown",
   "id": "233667ad",
   "metadata": {},
   "source": [
    "<a id='cycle_04'></a>\n",
    "<div class=\"alert alert-success\">\n",
    "    <h3>Перебор комбинации значений из двух списков</h3>\n",
    "</div>"
   ]
  },
  {
   "cell_type": "code",
   "execution_count": 4,
   "id": "c61fc630",
   "metadata": {},
   "outputs": [
    {
     "name": "stdout",
     "output_type": "stream",
     "text": [
      "[('A', 'c'), ('A', 'd'), ('A', 'e'), ('B', 'c'), ('B', 'd'), ('B', 'e')]\n"
     ]
    }
   ],
   "source": [
    "import itertools\n",
    "first_list = ['A', 'B']\n",
    "second_list = ['c', 'd', 'e']\n",
    "print(list(itertools.product(first_list, second_list)))"
   ]
  },
  {
   "cell_type": "code",
   "execution_count": 75,
   "id": "3c347c83",
   "metadata": {
    "scrolled": true
   },
   "outputs": [
    {
     "name": "stdout",
     "output_type": "stream",
     "text": [
      "[['A', 'c'], ['A', 'd'], ['A', 'e'], ['B', 'c'], ['B', 'd'], ['B', 'e']]\n"
     ]
    }
   ],
   "source": [
    "first_list = ['A', 'B']\n",
    "second_list = ['c', 'd', 'e']\n",
    "new_list = []\n",
    "for i in first_list:\n",
    "    for j in second_list:\n",
    "        new_list.append([i, j])\n",
    "print(new_list)"
   ]
  },
  {
   "cell_type": "markdown",
   "id": "cb542177",
   "metadata": {},
   "source": [
    "<a id='if_else'></a>\n",
    "<div style=\"border:solid orange 2px; padding: 40px\">\n",
    "    <h1>Условия</h1>\n",
    "</div>"
   ]
  },
  {
   "cell_type": "markdown",
   "id": "12c6bab8",
   "metadata": {},
   "source": [
    "<a id='if_else_01'></a>\n",
    "<div class=\"alert alert-success\">\n",
    "    <h3>try ... except</h3>\n",
    "</div>"
   ]
  },
  {
   "cell_type": "code",
   "execution_count": 1,
   "id": "ac2ef340",
   "metadata": {},
   "outputs": [
    {
     "name": "stdout",
     "output_type": "stream",
     "text": [
      "Проверьте значения параметров a и b\n",
      "Кстати, хорошего дня\n"
     ]
    }
   ],
   "source": [
    "try:\n",
    "    print(1 / 0)\n",
    "except:\n",
    "    print('Проверьте значения параметров a и b')\n",
    "print('Кстати, хорошего дня') "
   ]
  },
  {
   "cell_type": "code",
   "execution_count": null,
   "id": "0358c56a",
   "metadata": {},
   "outputs": [],
   "source": []
  },
  {
   "cell_type": "code",
   "execution_count": null,
   "id": "471704be",
   "metadata": {},
   "outputs": [],
   "source": []
  },
  {
   "cell_type": "code",
   "execution_count": null,
   "id": "10c976a8",
   "metadata": {},
   "outputs": [],
   "source": []
  },
  {
   "cell_type": "code",
   "execution_count": null,
   "id": "59f5f0b6",
   "metadata": {},
   "outputs": [],
   "source": []
  },
  {
   "cell_type": "markdown",
   "id": "befcd8df",
   "metadata": {},
   "source": [
    "<a id='function'></a>\n",
    "<div style=\"border:solid orange 2px; padding: 20px\">\n",
    "    <h1>Функции</h1>\n",
    "</div>"
   ]
  },
  {
   "cell_type": "code",
   "execution_count": null,
   "id": "a0f5b0d2",
   "metadata": {},
   "outputs": [],
   "source": []
  },
  {
   "cell_type": "code",
   "execution_count": null,
   "id": "9e8e05b0",
   "metadata": {},
   "outputs": [],
   "source": []
  },
  {
   "cell_type": "code",
   "execution_count": null,
   "id": "aed5a9f3",
   "metadata": {},
   "outputs": [],
   "source": []
  },
  {
   "cell_type": "code",
   "execution_count": null,
   "id": "0d1bee4e",
   "metadata": {},
   "outputs": [],
   "source": []
  },
  {
   "cell_type": "code",
   "execution_count": null,
   "id": "a7e035cf",
   "metadata": {},
   "outputs": [],
   "source": []
  }
 ],
 "metadata": {
  "kernelspec": {
   "display_name": "Python 3 (ipykernel)",
   "language": "python",
   "name": "python3"
  },
  "language_info": {
   "codemirror_mode": {
    "name": "ipython",
    "version": 3
   },
   "file_extension": ".py",
   "mimetype": "text/x-python",
   "name": "python",
   "nbconvert_exporter": "python",
   "pygments_lexer": "ipython3",
   "version": "3.9.7"
  }
 },
 "nbformat": 4,
 "nbformat_minor": 5
}
