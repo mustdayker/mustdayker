{
 "cells": [
  {
   "cell_type": "markdown",
   "metadata": {},
   "source": [
    "### Жирный, курсив, жирный курсив\n",
    "\n",
    "Тест - **Тест** - *Тест* - ***Тест***\n",
    "\n"
   ]
  },
  {
   "cell_type": "markdown",
   "metadata": {},
   "source": [
    "### Блок цитирования\n",
    "\n",
    "> Блок цитирования \n",
    "\n",
    "\n"
   ]
  },
  {
   "cell_type": "markdown",
   "metadata": {},
   "source": [
    "### Списки\n",
    "\n",
    "\n",
    "#### Нумерованный список\n",
    "1. Первый элемент списка\n",
    "1. Второй элемент списка\n",
    "   1. вложенный первый элемент\n",
    "   1. вложенный второй элемент\n",
    "1. Третий элемент списка\n",
    "\n",
    "\n",
    "#### Маркированный список\n",
    "- Первый элемент списка\n",
    "- Второй элемент списка\n",
    "  - вложенный первый элемент\n",
    "  - вложенный второй элемент\n",
    "- Третий элемент списка"
   ]
  },
  {
   "cell_type": "markdown",
   "metadata": {},
   "source": [
    "### Надстрочный и подстрочный текст\n",
    "\n",
    "Это <sub>Надстрочный текст</sub>\n",
    "\n",
    "А это <sup>Подстрочный текст</sup>"
   ]
  },
  {
   "cell_type": "markdown",
   "metadata": {},
   "source": [
    "### А вот и таблица\n",
    "\n",
    "|Заголовок первой колонки   |Заголовок 2|Заголовок 3|\n",
    "|----------|-----------|------------|\n",
    "|Ячейка 1     |Ячейка 2       |Ячейка 3        |\n",
    "|Ячейка 4|Ячейка 5   |Ячейка 6|"
   ]
  },
  {
   "cell_type": "markdown",
   "metadata": {},
   "source": [
    "<font color=Blue size=5>Я синий </font>\n",
    "$$S \\cdot  \\left( 1 + {p \\over 100 \\cdot f} \\right) ^{f \\cdot 5} - S $$\n",
    "\n",
    "$$с = \\sqrt{a^2 + b^2}$$"
   ]
  }
 ],
 "metadata": {
  "kernelspec": {
   "display_name": "Python 3 (ipykernel)",
   "language": "python",
   "name": "python3"
  },
  "language_info": {
   "codemirror_mode": {
    "name": "ipython",
    "version": 3
   },
   "file_extension": ".py",
   "mimetype": "text/x-python",
   "name": "python",
   "nbconvert_exporter": "python",
   "pygments_lexer": "ipython3",
   "version": "3.9.7"
  }
 },
 "nbformat": 4,
 "nbformat_minor": 4
}
