{
 "cells": [
  {
   "cell_type": "markdown",
   "id": "6547c8a2",
   "metadata": {},
   "source": [
    "<a id='head'></a>"
   ]
  },
  {
   "cell_type": "markdown",
   "id": "fb8c5c9e",
   "metadata": {},
   "source": [
    "\n",
    "### [Строки](#string)\n",
    "- [Функции строк для заголовков датафрейма](#string_01)\n",
    "\n",
    "### [Циклы](#cycle)\n",
    "- [Обратный цикл перебора словаря](#cycle_01)\n",
    "- [Замена дубликатов в DF (простая)](#cycle_02)\n",
    "- [Замена дубликатов в DF (улучшенная)](#cycle_03)\n",
    "- [Перебор комбинации значений из двух списков](#cycle_04)\n",
    "- [Пример цикла While](#cycle_05)\n",
    "\n",
    "### [Условия](#if_else)\n",
    "- [try... except](#if_else_01)\n",
    "- [Короткая запись условия](#if_else_02)\n",
    "\n",
    "### [Функции](#function)\n",
    "- [Перебор вхождения строки в элемент из списка значений](#function_01)\n",
    "- [Поиск значений усов коробки с усами](#function_02)\n",
    "\n",
    "### [Lambda функции](#lambda_function)\n",
    "- [Пример](#lambda_function_01)\n",
    "\n",
    "### [Генераторы списков](#list_comprehension)\n",
    "\n",
    "### [Распаковка списков](#unpack_list)\n",
    "\n",
    "### OS\n",
    "\n",
    "### [Диаграммы и Графики](#plt)\n",
    "- [Heatmap для матрицы корреляции](#plt_01)\n",
    "- [Seaborn Pairplot](#plt_02)\n",
    "\n",
    "### [Наборы полезного кода](#prosthesis)\n",
    "- [Предварительный обзор данных](#prost_01)\n",
    "- [Измерение времени выполнения тетрадки](#prost_02)\n",
    "\n",
    "### [ML](#ml)"
   ]
  },
  {
   "cell_type": "markdown",
   "id": "bb8cd008",
   "metadata": {},
   "source": [
    "<a id='string'></a>\n",
    "\n",
    "# Строки  [▴](#head)"
   ]
  },
  {
   "cell_type": "markdown",
   "id": "f973d3ee",
   "metadata": {},
   "source": [
    "<a id='string_01'></a>\n",
    "## Функции строк для заголовков датафрейма [▴](#head)"
   ]
  },
  {
   "cell_type": "code",
   "execution_count": 15,
   "id": "5d4caec3",
   "metadata": {
    "scrolled": true
   },
   "outputs": [
    {
     "name": "stdout",
     "output_type": "stream",
     "text": [
      "Index(['  userID', 'Track', 'artist', 'genre', '  City  ', 'time', 'Day'], dtype='object')\n",
      "Index(['userid', 'track', 'artist', 'genre', 'city', 'time', 'day'], dtype='object')\n"
     ]
    }
   ],
   "source": [
    "import pandas as pd\n",
    "df = pd.read_csv('datasets/music.csv')\n",
    "print(df.columns)\n",
    "\n",
    "# __________Начало___________\n",
    "\n",
    "df.columns = df.columns.str.lower().str.replace(' ', '_').str.strip('_')\n",
    "\n",
    "# str.lower() переводит символы в нижний регистр\n",
    "# str.replace(' ', '_') заменяет все пробелы на '_'\n",
    "# strip('_') стирает все '_' слева и справа от строки\n",
    "\n",
    "# __________Конец___________\n",
    "\n",
    "print(df.columns)"
   ]
  },
  {
   "cell_type": "code",
   "execution_count": 14,
   "id": "ca890708",
   "metadata": {},
   "outputs": [
    {
     "name": "stdout",
     "output_type": "stream",
     "text": [
      "  Привет как дела   \n",
      "__Привет_как_дела___\n",
      "Привет_как_дела\n"
     ]
    }
   ],
   "source": [
    "a = '  Привет как дела   '\n",
    "print(a)\n",
    "\n",
    "a = a.replace(' ', '_')\n",
    "print(a)\n",
    "\n",
    "a = a.strip('_')\n",
    "print(a)"
   ]
  },
  {
   "cell_type": "markdown",
   "id": "ef43143f",
   "metadata": {},
   "source": [
    "<a id='cycle'></a>\n",
    "<div style=\"border:solid orange 2px; padding: 40px\">\n",
    "    <h1><p style=\"text-align: center;\">Циклы</p></h1>\n",
    "</div>"
   ]
  },
  {
   "cell_type": "markdown",
   "id": "4b5645a4",
   "metadata": {},
   "source": [
    "<a id='cycle_01'></a>\n",
    "<div class=\"alert alert-info\">\n",
    "    <h3>Обратный цикл перебора словаря</h3>\n",
    "</div>"
   ]
  },
  {
   "cell_type": "code",
   "execution_count": 17,
   "id": "853144d9",
   "metadata": {
    "scrolled": true
   },
   "outputs": [
    {
     "name": "stdout",
     "output_type": "stream",
     "text": [
      "Славо -> Слово\n",
      "Слуво -> Слово\n",
      "Сливо -> Слово\n",
      "Кинь -> Огонь\n",
      "Конь -> Огонь\n"
     ]
    }
   ],
   "source": [
    "test_dict = {\"Слово\": ['Славо', \"Слуво\", \"Сливо\"], \"Огонь\": [\"Кинь\", \"Конь\"]}\n",
    "for item in test_dict.items():\n",
    "    for val in item[1]:\n",
    "        print(val, \"->\", item[0])"
   ]
  },
  {
   "cell_type": "markdown",
   "id": "e2b43cf1",
   "metadata": {},
   "source": [
    "# [▴](#head)"
   ]
  },
  {
   "cell_type": "markdown",
   "id": "5d040d51",
   "metadata": {},
   "source": [
    "<a id='cycle_02'></a>\n",
    "<div class=\"alert alert-info\">\n",
    "    <h3>Замена дубликатов в DF (простая)</h3>\n",
    "</div>"
   ]
  },
  {
   "cell_type": "code",
   "execution_count": 3,
   "id": "49db305d",
   "metadata": {},
   "outputs": [
    {
     "name": "stdout",
     "output_type": "stream",
     "text": [
      "['hip', 'hip-hop', 'hiphop', 'hop', 'triphop']\n",
      "['hiphop', 'triphop']\n"
     ]
    }
   ],
   "source": [
    "import pandas as pd\n",
    "df = pd.read_csv('datasets/music.csv')\n",
    "df.fillna('Нету', inplace=True)\n",
    "print(list(filter(lambda x: 'hip' in x or 'hop' in x, df['genre'].sort_values().unique())))\n",
    "\n",
    "# __________Начало___________\n",
    "def replace_wrong_genres(wrong_genres, correct_genre):\n",
    "    for wrong_genre in wrong_genres:\n",
    "        df['genre'] = df['genre'].replace(wrong_genre, correct_genre)\n",
    "\n",
    "replace_wrong_genres(['hip-hop', 'hip', 'hop'], 'hiphop')\n",
    "# __________Конец___________\n",
    "\n",
    "print(list(filter(lambda x: 'hip' in x or 'hop' in x, df['genre'].sort_values().unique())))"
   ]
  },
  {
   "cell_type": "markdown",
   "id": "ca68bc6e",
   "metadata": {},
   "source": [
    "# [▴](#head)"
   ]
  },
  {
   "cell_type": "markdown",
   "id": "141b9bc5",
   "metadata": {},
   "source": [
    "<a id='cycle_03'></a>\n",
    "<div class=\"alert alert-info\">\n",
    "    <h3>Замена дубликатов в DF (улучшеная)</h3>\n",
    "</div>"
   ]
  },
  {
   "cell_type": "code",
   "execution_count": 4,
   "id": "27d90691",
   "metadata": {},
   "outputs": [
    {
     "name": "stdout",
     "output_type": "stream",
     "text": [
      "['electronic', 'hip', 'hip-hop', 'hiphop', 'hop', 'loungeelectronic', 'popelectronic', 'triphop', 'электроника']\n",
      "['electronic', 'hiphop', 'loungeelectronic', 'popelectronic', 'triphop']\n"
     ]
    }
   ],
   "source": [
    "import pandas as pd\n",
    "df = pd.read_csv('datasets/music.csv')\n",
    "df.fillna('Нету', inplace=True)\n",
    "print(list(filter(lambda x: 'hip' in x or 'hop' in x or 'эл' in x or 'electronic' in x, df['genre'].sort_values().unique())))\n",
    "\n",
    "# __________Начало___________\n",
    "def replace_wrong_genres_upgrade(genres_duplicates): # принимаем на вход словарь с данными о дубликатах\n",
    "    for item in genres_duplicates.items(): # обходим каждый элемент словаря, распаковывая их в кортеж\n",
    "        for val in item[1]: # в кортеже создаем цикл на обход списка (по сути это значение ключа словаря со списком дубликатов)\n",
    "            df['genre'] = df['genre'].replace(val, item[0]) # заменяем каждый дубликат на верное значение (ключ словаря)\n",
    "\n",
    "duplicates_dict = {'hiphop': ['hip-hop', 'hip', 'hop'], 'electronic': ['электроника']} # наборов может быть сколько угодно\n",
    "replace_wrong_genres_upgrade(duplicates_dict)\n",
    "# __________Конец___________\n",
    "\n",
    "print(list(filter(lambda x: 'hip' in x or 'hop' in x or 'эл' in x or 'electronic' in x, df['genre'].sort_values().unique())))"
   ]
  },
  {
   "cell_type": "markdown",
   "id": "78ebb32a",
   "metadata": {},
   "source": [
    "# [▴](#head)"
   ]
  },
  {
   "cell_type": "markdown",
   "id": "233667ad",
   "metadata": {},
   "source": [
    "<a id='cycle_04'></a>\n",
    "<div class=\"alert alert-info\">\n",
    "    <h3>Перебор комбинации значений из двух списков</h3>\n",
    "</div>"
   ]
  },
  {
   "cell_type": "code",
   "execution_count": 20,
   "id": "c61fc630",
   "metadata": {},
   "outputs": [
    {
     "name": "stdout",
     "output_type": "stream",
     "text": [
      "[('A', 'c'), ('A', 'd'), ('A', 'e'), ('B', 'c'), ('B', 'd'), ('B', 'e')]\n"
     ]
    }
   ],
   "source": [
    "import itertools\n",
    "first_list = ['A', 'B']\n",
    "second_list = ['c', 'd', 'e']\n",
    "print(list(itertools.product(first_list, second_list)))"
   ]
  },
  {
   "cell_type": "markdown",
   "id": "fc2065ee",
   "metadata": {},
   "source": [
    "# [▴](#head)"
   ]
  },
  {
   "cell_type": "code",
   "execution_count": 21,
   "id": "3c347c83",
   "metadata": {
    "scrolled": true
   },
   "outputs": [
    {
     "name": "stdout",
     "output_type": "stream",
     "text": [
      "[['A', 'c'], ['A', 'd'], ['A', 'e'], ['B', 'c'], ['B', 'd'], ['B', 'e']]\n"
     ]
    }
   ],
   "source": [
    "first_list = ['A', 'B']\n",
    "second_list = ['c', 'd', 'e']\n",
    "new_list = []\n",
    "for i in first_list:\n",
    "    for j in second_list:\n",
    "        new_list.append([i, j])\n",
    "print(new_list)"
   ]
  },
  {
   "cell_type": "markdown",
   "id": "8777708b",
   "metadata": {},
   "source": [
    "# [▴](#head)"
   ]
  },
  {
   "cell_type": "markdown",
   "id": "b7feca83",
   "metadata": {},
   "source": [
    "<a id='cycle_05'></a>\n",
    "<div class=\"alert alert-info\">\n",
    "    <h3>Пример цикла While</h3>\n",
    "</div>"
   ]
  },
  {
   "cell_type": "code",
   "execution_count": 22,
   "id": "c5d7fa18",
   "metadata": {},
   "outputs": [],
   "source": [
    "import random\n",
    "\n",
    "total_weight = 0\n",
    "capacity = 300\n",
    "\n",
    "while total_weight < capacity: # пока суммарный вес меньше грузоподъёмности лифта\n",
    "    person_weight = random.randint(30, 120) # генерируется случайное целое число от 30 до 120\n",
    "    total_weight += person_weight # сгенерированный вес добавляется к суммарному весу"
   ]
  },
  {
   "cell_type": "markdown",
   "id": "9038fda4",
   "metadata": {},
   "source": [
    "# [▴](#head)"
   ]
  },
  {
   "cell_type": "code",
   "execution_count": null,
   "id": "9c789a74",
   "metadata": {},
   "outputs": [],
   "source": []
  },
  {
   "cell_type": "code",
   "execution_count": 23,
   "id": "6fd5965d",
   "metadata": {},
   "outputs": [
    {
     "name": "stdout",
     "output_type": "stream",
     "text": [
      "{2: 1, 3: 2, 4: 3, 5: 4, 6: 5, 7: 6, 8: 5, 9: 4, 10: 3, 11: 2, 12: 1}\n",
      "{2: 0.027777777777777776, 3: 0.05555555555555555, 4: 0.08333333333333333, 5: 0.1111111111111111, 6: 0.1388888888888889, 7: 0.16666666666666666, 8: 0.1388888888888889, 9: 0.1111111111111111, 10: 0.08333333333333333, 11: 0.05555555555555555, 12: 0.027777777777777776}\n"
     ]
    }
   ],
   "source": [
    "import numpy as np\n",
    "\n",
    "spots = np.array([[2,3,4,5,6,7], # имя переменной spots по-английски значит «пятна»\n",
    "    [3,4,5,6,7,8], \n",
    "    [4,5,6,7,8,9], \n",
    "    [5,6,7,8,9,10], \n",
    "    [6,7,8,9,10,11],\n",
    "    [7,8,9,10,11,12]])\n",
    "\n",
    "spot_counts = {}\n",
    "\n",
    "for i in range(0, 6):\n",
    "        for j in range(0, 6):\n",
    "                if spots[i][j] not in spot_counts.keys():\n",
    "                        spot_counts[spots[i][j]] = 1\n",
    "                else:\n",
    "                        spot_counts[spots[i][j]] += 1\n",
    "\n",
    "print(spot_counts)\n",
    "\n",
    "spot_probs={k:spot_counts[k]/36 for k in spot_counts} #dictionary comprehension\n",
    "print(spot_probs)"
   ]
  },
  {
   "cell_type": "markdown",
   "id": "f6ce06c6",
   "metadata": {},
   "source": [
    "# [▴](#head)"
   ]
  },
  {
   "cell_type": "code",
   "execution_count": null,
   "id": "6c44eb7c",
   "metadata": {},
   "outputs": [],
   "source": []
  },
  {
   "cell_type": "code",
   "execution_count": null,
   "id": "d6bbb8ec",
   "metadata": {},
   "outputs": [],
   "source": []
  },
  {
   "cell_type": "code",
   "execution_count": null,
   "id": "2a76ca07",
   "metadata": {},
   "outputs": [],
   "source": []
  },
  {
   "cell_type": "markdown",
   "id": "cb542177",
   "metadata": {},
   "source": [
    "<a id='if_else'></a>\n",
    "<div style=\"border:solid orange 2px; padding: 40px\">\n",
    "    <h1><p style=\"text-align: center;\">Условия</p></h1>\n",
    "</div>"
   ]
  },
  {
   "cell_type": "markdown",
   "id": "12c6bab8",
   "metadata": {},
   "source": [
    "<a id='if_else_01'></a>\n",
    "<div class=\"alert alert-info\">\n",
    "    <h3>try ... except</h3>\n",
    "</div>"
   ]
  },
  {
   "cell_type": "code",
   "execution_count": 24,
   "id": "ac2ef340",
   "metadata": {},
   "outputs": [
    {
     "name": "stdout",
     "output_type": "stream",
     "text": [
      "Проверьте значения параметров a и b\n",
      "Кстати, хорошего дня\n"
     ]
    }
   ],
   "source": [
    "try:\n",
    "    print(1 / 0)\n",
    "except:\n",
    "    print('Проверьте значения параметров a и b')\n",
    "print('Кстати, хорошего дня') "
   ]
  },
  {
   "cell_type": "markdown",
   "id": "fb60b5d0",
   "metadata": {},
   "source": [
    "# [▴](#head)"
   ]
  },
  {
   "cell_type": "markdown",
   "id": "45f67b55",
   "metadata": {},
   "source": [
    "<a id='if_else_02'></a>\n",
    "<div class=\"alert alert-info\">\n",
    "    <h3>Короткая запись условия</h3>\n",
    "</div>"
   ]
  },
  {
   "cell_type": "code",
   "execution_count": 25,
   "id": "0358c56a",
   "metadata": {},
   "outputs": [
    {
     "name": "stdout",
     "output_type": "stream",
     "text": [
      "Yes\n"
     ]
    }
   ],
   "source": [
    "p = 1\n",
    "x = (\"Yes\" if p == 1 else \"Нет или не уверен\")\n",
    "print(x)"
   ]
  },
  {
   "cell_type": "markdown",
   "id": "9bf1fa99",
   "metadata": {},
   "source": [
    "# [▴](#head)"
   ]
  },
  {
   "cell_type": "markdown",
   "id": "b6c7f2b3",
   "metadata": {},
   "source": [
    "<a id='function'></a>\n",
    "<div style=\"border:solid orange 2px; padding: 40px\">\n",
    "    <h1><p style=\"text-align: center;\">Функции</p></h1>\n",
    "</div>"
   ]
  },
  {
   "cell_type": "markdown",
   "id": "6822cb35",
   "metadata": {},
   "source": [
    "<a id='function_01'></a>\n",
    "<div class=\"alert alert-info\">\n",
    "    <h3>Перебор вхождения строки в элемент из списка значений</h3>\n",
    "</div>"
   ]
  },
  {
   "cell_type": "code",
   "execution_count": null,
   "id": "77308b00",
   "metadata": {},
   "outputs": [],
   "source": [
    "# создадим 4 списка, для каждой из категорий и впишем туда необходимые корни слов\n",
    "\n",
    "auto_list = ['авто'] # автомобильный\n",
    "education_list = ['образ'] # образование\n",
    "realty_list = ['жиль', 'недв'] # недвижимость\n",
    "wedding_list = ['свадь'] # свадьба\n",
    "\n",
    "# сначала создадим функцию-помощника, которая будет перебирать список корней \n",
    "# и проверять вхождение этого корня в строковое значение\n",
    "\n",
    "def str_in_val_list(str_val, words): # принимаем на вход строковое значение для проверки и список корней\n",
    "    for word in words: # для каждого корня в списке корней\n",
    "        if word in str_val: # если корень входит в строковое значение\n",
    "            return True # возвращаем True\n",
    "    return False # иначе False\n",
    "\n",
    "\n",
    "# теперь создаем основную рабочую функцию\n",
    "\n",
    "def categorise_purpose(cell): # принимием на вход значение ячейки (это наше строковое значение)\n",
    "    if str_in_val_list(cell, auto_list): # вызываем функцию-помощника, которой передаем значение ячейки и список на проверку\n",
    "        return 'операции с автомобилем' # если функция-помощник возвращает нам True, то основная возвращает нужную категорию\n",
    "    elif str_in_val_list(cell, realty_list):\n",
    "        return 'операции с недвижимостью'\n",
    "    elif str_in_val_list(cell, wedding_list):\n",
    "        return 'проведение свадьбы'\n",
    "    elif str_in_val_list(cell, education_list):\n",
    "        return 'получение образования'\n",
    "    else:\n",
    "        return 'без категории' # если все вызовы функций-помощников вернули нам False, то получаем на выходе \"без категорий\"\n",
    "\n",
    "\n",
    "# применим нашу функцию с столбцу \"purpose\".\n",
    "# результат работы функции поместим в новый столбец \"purpose_category\"\n",
    "\n",
    "df['purpose_category'] = df['purpose'].apply(categorise_purpose)"
   ]
  },
  {
   "cell_type": "markdown",
   "id": "de3e5875",
   "metadata": {},
   "source": [
    "# [▴](#head)"
   ]
  },
  {
   "cell_type": "code",
   "execution_count": null,
   "id": "e7962df4",
   "metadata": {},
   "outputs": [],
   "source": []
  },
  {
   "cell_type": "code",
   "execution_count": null,
   "id": "8b701117",
   "metadata": {},
   "outputs": [],
   "source": [
    "def calculate_total_price(count, price): \n",
    "    total = count * price \n",
    "    if total > 1000: \n",
    "        total -= total * 0.05 \n",
    "    return total\n",
    "\n",
    "items_list = [\n",
    "    [3, 100.0],\n",
    "    [2, 501.0],\n",
    "    [10, 40]\n",
    "]\n",
    "\n",
    "for item in items_list:\n",
    "    print(calculate_total_price(item[0], item[1])) "
   ]
  },
  {
   "cell_type": "markdown",
   "id": "1b881f0a",
   "metadata": {},
   "source": [
    "# [▴](#head)"
   ]
  },
  {
   "cell_type": "code",
   "execution_count": null,
   "id": "db9eeb2a",
   "metadata": {},
   "outputs": [],
   "source": [
    "def func(x, y):\n",
    "    if z > y:\n",
    "        return 'First'\n",
    "    elif x < y:\n",
    "        return 'Second'\n",
    "    else: \n",
    "        return 'Equal'"
   ]
  },
  {
   "cell_type": "markdown",
   "id": "fda7bd40",
   "metadata": {},
   "source": [
    "# [▴](#head)"
   ]
  },
  {
   "cell_type": "code",
   "execution_count": null,
   "id": "eb38ad75",
   "metadata": {},
   "outputs": [],
   "source": []
  },
  {
   "cell_type": "markdown",
   "id": "794371a7",
   "metadata": {},
   "source": [
    "<a id='function_02'></a>\n",
    "<div class=\"alert alert-info\">\n",
    "    <h3>Поиск значений усов коробки с усами</h3>\n",
    "</div>"
   ]
  },
  {
   "cell_type": "code",
   "execution_count": null,
   "id": "50d8f319",
   "metadata": {},
   "outputs": [],
   "source": [
    "def whisker_find(df_ser):\n",
    "    dict_from_desc = df_ser.describe().to_dict()\n",
    "    bottom_whisker = dict_from_desc['25%'] - ((dict_from_desc['75%'] - dict_from_desc['25%']) * 1.5)\n",
    "    top_whisker = dict_from_desc['75%'] + ((dict_from_desc['75%'] - dict_from_desc['25%']) * 1.5)\n",
    "    if bottom_whisker < dict_from_desc['min']:\n",
    "        bottom_whisker = dict_from_desc['min']\n",
    "    return round(bottom_whisker, 2), round(top_whisker, 2)\n",
    "\n",
    "print(whisker_find(df['colname']))"
   ]
  },
  {
   "cell_type": "markdown",
   "id": "07c8e59e",
   "metadata": {},
   "source": [
    "# [▴](#head)"
   ]
  },
  {
   "cell_type": "markdown",
   "id": "93a01de0",
   "metadata": {},
   "source": [
    "<a id='lambda_function'></a>\n",
    "<div style=\"border:solid orange 2px; padding: 40px\">\n",
    "    <h1><p style=\"text-align: center;\">Lambda функции</p></h1>\n",
    "</div>"
   ]
  },
  {
   "cell_type": "markdown",
   "id": "9c74086e",
   "metadata": {},
   "source": [
    "Лямбда-функции — функции, которые создаются в одну строку. После ключевого слова `lambda` указывают две части лямбда-функции:\n",
    "перед двоеточием: аргумент, который получит функция;\n",
    "после двоеточия: инструкция, которую функция выполнит.\n",
    "\n",
    "\n",
    "`lambda <аргумент>: <инструкция>`"
   ]
  },
  {
   "cell_type": "markdown",
   "id": "7f1508d7",
   "metadata": {},
   "source": [
    "<a id='lambda_function_01'></a>\n",
    "<div class=\"alert alert-info\">\n",
    "    <h3>Пример</h3>\n",
    "</div>"
   ]
  },
  {
   "cell_type": "code",
   "execution_count": null,
   "id": "0241584f",
   "metadata": {},
   "outputs": [],
   "source": [
    "# обычная\n",
    "def func(p, f, S, L): \n",
    "    return S * (1 + p / f) ** (f * L) - S\n",
    "\n",
    "# Lambda\n",
    "func = lambda p, f, S, L: S * (1 + p / f) ** (f * L) - S"
   ]
  },
  {
   "cell_type": "code",
   "execution_count": null,
   "id": "43cd4af1",
   "metadata": {},
   "outputs": [],
   "source": [
    "def func(x):\n",
    "    return x + 1\n",
    "\n",
    "func = lambda x: x + 1"
   ]
  },
  {
   "cell_type": "code",
   "execution_count": null,
   "id": "d9ff1ba8",
   "metadata": {},
   "outputs": [],
   "source": [
    "def func(x, y): \n",
    "    return x + y\n",
    "\n",
    "func = lambda x, y: x + y "
   ]
  },
  {
   "cell_type": "code",
   "execution_count": null,
   "id": "b62358fa",
   "metadata": {},
   "outputs": [],
   "source": [
    "my_list = [(1, 1), (2, 0), (3, 4), (1, -1), (2, 2)]\n",
    "print(sorted(my_list, key=lambda x: x[1]))"
   ]
  },
  {
   "cell_type": "code",
   "execution_count": null,
   "id": "5ebdcc97",
   "metadata": {},
   "outputs": [],
   "source": [
    "my_list = [0, 0, -1, -2, -3, 4, 3, 2, 5] \n",
    "print(list(map(lambda x: abs(x), my_list)))"
   ]
  },
  {
   "cell_type": "code",
   "execution_count": null,
   "id": "ee392325",
   "metadata": {},
   "outputs": [],
   "source": [
    "my_list = [1, 2, 3, 4, 5]\n",
    "print(list(map(lambda x: x**2, my_list)))\n",
    "for item in map(lambda x: x ** 2, my_list):\n",
    "    print(item, end=' ')"
   ]
  },
  {
   "cell_type": "code",
   "execution_count": null,
   "id": "c338ef7f",
   "metadata": {},
   "outputs": [],
   "source": [
    "a = [1, 2, 3, 4, 5]\n",
    "b = [6, 7, 8, 9, 10]\n",
    "print(list(map(lambda x, y: x * y, a, b)), \"- Перемножение списков\")\n",
    "print(list(map(lambda x, y: x + y, a, b)), \"- Пересложение списков\")"
   ]
  },
  {
   "cell_type": "code",
   "execution_count": null,
   "id": "a6bed051",
   "metadata": {},
   "outputs": [],
   "source": [
    "my_list = [0, 0, -1, -2, -3, 4, 3, 2, 5]\n",
    "print(list(filter(lambda x: x<=0, my_list)))"
   ]
  },
  {
   "cell_type": "code",
   "execution_count": null,
   "id": "902bb9d6",
   "metadata": {},
   "outputs": [],
   "source": [
    "movies_table_sorted = sorted(movies_table, key=lambda row: row[5])"
   ]
  },
  {
   "cell_type": "markdown",
   "id": "c9f36d53",
   "metadata": {},
   "source": [
    "# [▴](#head)"
   ]
  },
  {
   "cell_type": "code",
   "execution_count": null,
   "id": "638deaa0",
   "metadata": {},
   "outputs": [],
   "source": []
  },
  {
   "cell_type": "code",
   "execution_count": null,
   "id": "54ae8ebc",
   "metadata": {},
   "outputs": [],
   "source": []
  },
  {
   "cell_type": "markdown",
   "id": "61b5a58e",
   "metadata": {},
   "source": [
    "<a id='list_comprehension'></a>\n",
    "<div style=\"border:solid orange 2px; padding: 40px\">\n",
    "    <h1><p style=\"text-align: center;\">Генераторы списков</p></h1>\n",
    "</div>"
   ]
  },
  {
   "cell_type": "code",
   "execution_count": null,
   "id": "b0ab510a",
   "metadata": {},
   "outputs": [],
   "source": [
    "x = [k ** 2 for k in range(2, 12, 3)] # Расшифровывается как: Для каждого К от 2 до 12 c шагом 3, вернуть K**2 \n",
    "x = [k ** 2 for k in range(2, 12, 3) if k != 8] # Для каждого К от 2 до 12 с шагом 3, вернуть К**2 если K!=8\n",
    "x = (k ** 2 for k in range(2, 12, 3)) # Если использовать круглые скобки, то X = <class 'generator'>"
   ]
  },
  {
   "cell_type": "code",
   "execution_count": null,
   "id": "4e425e01",
   "metadata": {},
   "outputs": [],
   "source": [
    "print([line.split(': ') for line in s1.split('\\n') if line])"
   ]
  },
  {
   "cell_type": "code",
   "execution_count": null,
   "id": "77ddab3a",
   "metadata": {},
   "outputs": [],
   "source": [
    "print(\"\\n\".join([\" \".join(line.split(': ')) for line in s2.split('\\n') if line]))"
   ]
  },
  {
   "cell_type": "code",
   "execution_count": null,
   "id": "efbe600c",
   "metadata": {},
   "outputs": [],
   "source": [
    "list = [x for x in range(1, 21) if x > 1 and all(x % i != 0 for i in range(2, x))]"
   ]
  },
  {
   "cell_type": "code",
   "execution_count": null,
   "id": "ec2712c0",
   "metadata": {},
   "outputs": [],
   "source": []
  },
  {
   "cell_type": "markdown",
   "id": "bbdafde4",
   "metadata": {},
   "source": [
    "# [▴](#head)"
   ]
  },
  {
   "cell_type": "code",
   "execution_count": null,
   "id": "38636ade",
   "metadata": {},
   "outputs": [],
   "source": []
  },
  {
   "cell_type": "code",
   "execution_count": null,
   "id": "dc5c0c39",
   "metadata": {},
   "outputs": [],
   "source": []
  },
  {
   "cell_type": "code",
   "execution_count": null,
   "id": "7efcb6d8",
   "metadata": {},
   "outputs": [],
   "source": []
  },
  {
   "cell_type": "markdown",
   "id": "390ab82a",
   "metadata": {},
   "source": [
    "<a id='unpack_list'></a>\n",
    "\n",
    "# Распаковка списков [▴](#head)"
   ]
  },
  {
   "cell_type": "code",
   "execution_count": null,
   "id": "f2be7ed9",
   "metadata": {},
   "outputs": [],
   "source": [
    "my_list = [\"А\", 2, None]\n",
    "x, y, z = my_list"
   ]
  },
  {
   "cell_type": "code",
   "execution_count": null,
   "id": "06a76432",
   "metadata": {},
   "outputs": [],
   "source": [
    "x, y = (1, \"а\")"
   ]
  },
  {
   "cell_type": "code",
   "execution_count": null,
   "id": "a92219c6",
   "metadata": {},
   "outputs": [],
   "source": [
    "for index, value in enumerate(my_list):\n",
    "    print(index, value)"
   ]
  },
  {
   "cell_type": "markdown",
   "id": "d0c741aa",
   "metadata": {},
   "source": [
    "<a id='plt'></a>\n",
    "\n",
    "# Диаграммы и графики [▴](#head)"
   ]
  },
  {
   "cell_type": "markdown",
   "id": "ad65d158",
   "metadata": {},
   "source": [
    "<a id='plt_01'></a>\n",
    "\n",
    "## Heatmap для матрицы корреляции [▴](#head)"
   ]
  },
  {
   "cell_type": "code",
   "execution_count": 94,
   "id": "120b7bf9",
   "metadata": {},
   "outputs": [
    {
     "data": {
      "text/plain": [
       "Text(0.5, 1.0, 'Корреляционная матрица')"
      ]
     },
     "execution_count": 94,
     "metadata": {},
     "output_type": "execute_result"
    },
    {
     "data": {
      "image/png": "[encoded data removed]",
      "text/plain": [
       "<Figure size 864x720 with 2 Axes>"
      ]
     },
     "metadata": {
      "needs_background": "light"
     },
     "output_type": "display_data"
    }
   ],
   "source": [
    "import pandas as pd\n",
    "import matplotlib.pyplot as plt\n",
    "import seaborn as sns\n",
    "\n",
    "df = sns.load_dataset('tips')\n",
    "\n",
    "plt.figure(figsize=(12,10))\n",
    "corr_matrix = sns.heatmap(df.corr(), \n",
    "                          annot=True, \n",
    "                          vmin=-1, vmax=1, center=0, \n",
    "                          cmap='seismic', # или coolwarm https://matplotlib.org/stable/gallery/color/colormap_reference.html\n",
    "                          mask=(np.tri(len(df.corr())).T),\n",
    "                          linewidths=1,\n",
    "                          linecolor='grey')\n",
    "\n",
    "corr_matrix.set_title(\"Корреляционная матрица\", fontsize=16)\n",
    "\n",
    "# Маски:\n",
    "# mask = np.triu(df.corr())\n",
    "# mask = np.tril(df.corr())"
   ]
  },
  {
   "cell_type": "markdown",
   "id": "78b350ce",
   "metadata": {},
   "source": [
    "<a id='plt_02'></a>\n",
    "\n",
    "## Seaborn Pairplot  [▴](#head)"
   ]
  },
  {
   "cell_type": "code",
   "execution_count": null,
   "id": "d36b4389",
   "metadata": {},
   "outputs": [],
   "source": [
    "import pandas as pd\n",
    "import matplotlib.pyplot as plt\n",
    "import seaborn as sns\n",
    "\n",
    "plt.figure(figsize=(5,5))\n",
    "sns.pairplot(df)\n",
    "plt.show()"
   ]
  },
  {
   "cell_type": "markdown",
   "id": "2f75d8eb",
   "metadata": {},
   "source": [
    "## Работа с осями [▴](#head)"
   ]
  },
  {
   "cell_type": "markdown",
   "id": "c7db72e8",
   "metadata": {},
   "source": [
    "- https://python-graph-gallery.com - Сайт с примерами графиков на Python.\n",
    "- https://datavizcatalogue.com - Сайт с примерами, для того чтобы разобраться с названиями. Без примеров на Python\n",
    "- https://seaborn.pydata.org/examples/index.html"
   ]
  },
  {
   "cell_type": "code",
   "execution_count": 2,
   "id": "e4125a96",
   "metadata": {},
   "outputs": [],
   "source": [
    "import matplotlib.pyplot as plt\n",
    "import numpy as np\n",
    "import pandas as pd\n",
    "import seaborn as sns"
   ]
  },
  {
   "cell_type": "code",
   "execution_count": 3,
   "id": "66e7520b",
   "metadata": {},
   "outputs": [],
   "source": [
    "# массив данных для тестового графика\n",
    "\n",
    "xs = np.linspace(0, 2 * np.pi, 100)\n",
    "ys = np.sin(xs) * 2 + np.random.rand(*xs.shape)"
   ]
  },
  {
   "cell_type": "code",
   "execution_count": 4,
   "id": "c9742196",
   "metadata": {},
   "outputs": [
    {
     "data": {
      "text/plain": [
       "Text(0, 0.5, 'Ось Y')"
      ]
     },
     "execution_count": 4,
     "metadata": {},
     "output_type": "execute_result"
    },
    {
     "data": {
      "image/png": "[encoded data removed]",
      "text/plain": [
       "<Figure size 432x288 with 1 Axes>"
      ]
     },
     "metadata": {
      "needs_background": "light"
     },
     "output_type": "display_data"
    }
   ],
   "source": [
    "plt.plot(xs, ys, ls='--', label='Синяя')\n",
    "plt.plot(xs, -ys, label='Оранжевая')\n",
    "plt.legend()\n",
    "plt.grid()\n",
    "plt.title('Какой то график')\n",
    "plt.xlabel('Ось X')\n",
    "plt.ylabel('Ось Y')"
   ]
  },
  {
   "cell_type": "code",
   "execution_count": 90,
   "id": "b19abf4e",
   "metadata": {},
   "outputs": [
    {
     "data": {
      "image/png": "[encoded data removed]",
      "text/plain": [
       "<Figure size 3600x600 with 4 Axes>"
      ]
     },
     "metadata": {
      "needs_background": "light"
     },
     "output_type": "display_data"
    }
   ],
   "source": [
    "figure, axis = plt.subplots(2, 2, figsize=(12, 2), dpi=300)"
   ]
  },
  {
   "cell_type": "code",
   "execution_count": 88,
   "id": "af6cbf9a",
   "metadata": {},
   "outputs": [
    {
     "data": {
      "text/plain": [
       "(2, 2)"
      ]
     },
     "execution_count": 88,
     "metadata": {},
     "output_type": "execute_result"
    }
   ],
   "source": [
    "axis.shape"
   ]
  },
  {
   "cell_type": "code",
   "execution_count": 7,
   "id": "9372c8ec",
   "metadata": {},
   "outputs": [
    {
     "data": {
      "text/plain": [
       "array([<AxesSubplot:>, <AxesSubplot:>], dtype=object)"
      ]
     },
     "execution_count": 7,
     "metadata": {},
     "output_type": "execute_result"
    }
   ],
   "source": [
    "axis"
   ]
  },
  {
   "cell_type": "code",
   "execution_count": 8,
   "id": "6a165337",
   "metadata": {},
   "outputs": [
    {
     "data": {
      "image/png": "[encoded data removed]",
      "text/plain": [
       "<Figure size 864x432 with 4 Axes>"
      ]
     },
     "metadata": {
      "needs_background": "light"
     },
     "output_type": "display_data"
    }
   ],
   "source": [
    "figure, axis = plt.subplots(2, 2, figsize=(12, 6), dpi=72)\n",
    "axis[0,0].plot(xs, ys, ls='--', label='Синяя')\n",
    "axis[0,0].plot(xs, -ys, lw=3, label='Оранжевая')\n",
    "axis[0,0].legend()\n",
    "axis[0,0].grid()\n",
    "axis[0,0].set_title('Какой то график')\n",
    "axis[0,0].set_xlabel('Ось X')\n",
    "axis[0,0].set_ylabel('Ось Y')\n",
    "\n",
    "axis[1,1].plot(xs, -ys, c='orange')\n",
    "axis[1,1].grid()\n",
    "axis[1,1].set_title('Какой то график')\n",
    "axis[1,1].set_xlabel('Ось X')\n",
    "axis[1,1].set_ylabel('Ось Y')\n",
    "\n",
    "plt.suptitle('Суперзаголовок')\n",
    "plt.show()"
   ]
  },
  {
   "cell_type": "code",
   "execution_count": 9,
   "id": "85480b66",
   "metadata": {},
   "outputs": [
    {
     "name": "stdout",
     "output_type": "stream",
     "text": [
      "(2, 2)\n",
      "(4,)\n"
     ]
    },
    {
     "data": {
      "image/png": "[encoded data removed]",
      "text/plain": [
       "<Figure size 864x216 with 4 Axes>"
      ]
     },
     "metadata": {
      "needs_background": "light"
     },
     "output_type": "display_data"
    }
   ],
   "source": [
    "figure, axis = plt.subplots(2, 2, figsize=(12, 3), dpi=72)\n",
    "print(axis.shape)\n",
    "\n",
    "axis = axis.ravel() \n",
    "# ravel распремляет двумерный массив\n",
    "# после этого можно обраться по одному индексу\n",
    "print(axis.shape)\n",
    "\n",
    "axis[0].plot(xs, ys, ls='--', label='Синяя')\n",
    "axis[0].plot(xs, -ys, lw=3, label='Оранжевая')\n",
    "\n",
    "axis[3].plot(xs, -ys, c='orange')\n",
    "plt.show()"
   ]
  },
  {
   "cell_type": "markdown",
   "id": "084360d2",
   "metadata": {},
   "source": [
    "## Столбчатая диаграмма [▴](#head)"
   ]
  },
  {
   "cell_type": "code",
   "execution_count": 10,
   "id": "7425c9ca",
   "metadata": {},
   "outputs": [
    {
     "data": {
      "text/html": [
       "<div>\n",
       "<style scoped>\n",
       "    .dataframe tbody tr th:only-of-type {\n",
       "        vertical-align: middle;\n",
       "    }\n",
       "\n",
       "    .dataframe tbody tr th {\n",
       "        vertical-align: top;\n",
       "    }\n",
       "\n",
       "    .dataframe thead th {\n",
       "        text-align: right;\n",
       "    }\n",
       "</style>\n",
       "<table border=\"1\" class=\"dataframe\">\n",
       "  <thead>\n",
       "    <tr style=\"text-align: right;\">\n",
       "      <th></th>\n",
       "      <th>total_bill</th>\n",
       "      <th>tip</th>\n",
       "      <th>sex</th>\n",
       "      <th>smoker</th>\n",
       "      <th>day</th>\n",
       "      <th>time</th>\n",
       "      <th>size</th>\n",
       "    </tr>\n",
       "  </thead>\n",
       "  <tbody>\n",
       "    <tr>\n",
       "      <th>0</th>\n",
       "      <td>16.99</td>\n",
       "      <td>1.01</td>\n",
       "      <td>Female</td>\n",
       "      <td>No</td>\n",
       "      <td>Sun</td>\n",
       "      <td>Dinner</td>\n",
       "      <td>2</td>\n",
       "    </tr>\n",
       "    <tr>\n",
       "      <th>1</th>\n",
       "      <td>10.34</td>\n",
       "      <td>1.66</td>\n",
       "      <td>Male</td>\n",
       "      <td>No</td>\n",
       "      <td>Sun</td>\n",
       "      <td>Dinner</td>\n",
       "      <td>3</td>\n",
       "    </tr>\n",
       "    <tr>\n",
       "      <th>2</th>\n",
       "      <td>21.01</td>\n",
       "      <td>3.50</td>\n",
       "      <td>Male</td>\n",
       "      <td>No</td>\n",
       "      <td>Sun</td>\n",
       "      <td>Dinner</td>\n",
       "      <td>3</td>\n",
       "    </tr>\n",
       "    <tr>\n",
       "      <th>3</th>\n",
       "      <td>23.68</td>\n",
       "      <td>3.31</td>\n",
       "      <td>Male</td>\n",
       "      <td>No</td>\n",
       "      <td>Sun</td>\n",
       "      <td>Dinner</td>\n",
       "      <td>2</td>\n",
       "    </tr>\n",
       "    <tr>\n",
       "      <th>4</th>\n",
       "      <td>24.59</td>\n",
       "      <td>3.61</td>\n",
       "      <td>Female</td>\n",
       "      <td>No</td>\n",
       "      <td>Sun</td>\n",
       "      <td>Dinner</td>\n",
       "      <td>4</td>\n",
       "    </tr>\n",
       "  </tbody>\n",
       "</table>\n",
       "</div>"
      ],
      "text/plain": [
       "   total_bill   tip     sex smoker  day    time  size\n",
       "0       16.99  1.01  Female     No  Sun  Dinner     2\n",
       "1       10.34  1.66    Male     No  Sun  Dinner     3\n",
       "2       21.01  3.50    Male     No  Sun  Dinner     3\n",
       "3       23.68  3.31    Male     No  Sun  Dinner     2\n",
       "4       24.59  3.61  Female     No  Sun  Dinner     4"
      ]
     },
     "execution_count": 10,
     "metadata": {},
     "output_type": "execute_result"
    }
   ],
   "source": [
    "df = sns.load_dataset('tips')\n",
    "df.head()"
   ]
  },
  {
   "cell_type": "code",
   "execution_count": 11,
   "id": "18314db6",
   "metadata": {},
   "outputs": [
    {
     "data": {
      "text/plain": [
       "sex\n",
       "Male      3.089618\n",
       "Female    2.833448\n",
       "Name: tip, dtype: float64"
      ]
     },
     "execution_count": 11,
     "metadata": {},
     "output_type": "execute_result"
    }
   ],
   "source": [
    "s = df.groupby('sex')['tip'].mean()\n",
    "s"
   ]
  },
  {
   "cell_type": "code",
   "execution_count": 12,
   "id": "befa808e",
   "metadata": {},
   "outputs": [
    {
     "data": {
      "image/png": "[encoded data removed]",
      "text/plain": [
       "<Figure size 144x432 with 1 Axes>"
      ]
     },
     "metadata": {
      "needs_background": "light"
     },
     "output_type": "display_data"
    }
   ],
   "source": [
    "plt.figure(figsize=(2, 6))\n",
    "plt.bar(s.index, s, width=0.7)\n",
    "plt.ylabel('Mean tip')\n",
    "plt.grid()\n",
    "plt.ylim(0, 3.5)\n",
    "\n",
    "# Нанесение подписей на диаграмму\n",
    "for i in range(len(s)):\n",
    "    plt.text(s.index[i], 1.03 * s[i], f'{s[i]:.3f}', ha='center')"
   ]
  },
  {
   "cell_type": "markdown",
   "id": "e662c0f6",
   "metadata": {},
   "source": [
    "## Распределение [▴](#head)"
   ]
  },
  {
   "cell_type": "code",
   "execution_count": 32,
   "id": "09e8b240",
   "metadata": {},
   "outputs": [
    {
     "data": {
      "image/png": "[encoded data removed]",
      "text/plain": [
       "<Figure size 864x360 with 1 Axes>"
      ]
     },
     "metadata": {
      "needs_background": "light"
     },
     "output_type": "display_data"
    }
   ],
   "source": [
    "# истинное распределение\n",
    "\n",
    "# Kernel Density Estimate (KDE) - Оценка плотности распределения\n",
    "\n",
    "sns.kdeplot(df['tip'])\n",
    "plt.show()"
   ]
  },
  {
   "cell_type": "code",
   "execution_count": 42,
   "id": "d5ee21ad",
   "metadata": {},
   "outputs": [
    {
     "data": {
      "image/png": "[encoded data removed]",
      "text/plain": [
       "<Figure size 864x360 with 1 Axes>"
      ]
     },
     "metadata": {
      "needs_background": "light"
     },
     "output_type": "display_data"
    }
   ],
   "source": [
    "sns.histplot(df['tip'], kde=True, bins=11)\n",
    "plt.show()"
   ]
  },
  {
   "cell_type": "code",
   "execution_count": 52,
   "id": "58e7b242",
   "metadata": {},
   "outputs": [
    {
     "data": {
      "image/png": "[encoded data removed]",
      "text/plain": [
       "<Figure size 864x360 with 1 Axes>"
      ]
     },
     "metadata": {
      "needs_background": "light"
     },
     "output_type": "display_data"
    }
   ],
   "source": [
    "plt.hist(df['tip'], bins=11, rwidth=1)\n",
    "plt.show()"
   ]
  },
  {
   "cell_type": "code",
   "execution_count": 51,
   "id": "a6fdaeb8",
   "metadata": {},
   "outputs": [
    {
     "data": {
      "image/png": "[encoded data removed]",
      "text/plain": [
       "<Figure size 864x144 with 1 Axes>"
      ]
     },
     "metadata": {
      "needs_background": "light"
     },
     "output_type": "display_data"
    }
   ],
   "source": [
    "plt.figure(figsize=(12, 2))\n",
    "plt.boxplot(df['tip'], vert=False)\n",
    "plt.show()"
   ]
  },
  {
   "cell_type": "code",
   "execution_count": 85,
   "id": "c26ee53e",
   "metadata": {},
   "outputs": [
    {
     "data": {
      "image/png": "[encoded data removed]",
      "text/plain": [
       "<Figure size 864x360 with 1 Axes>"
      ]
     },
     "metadata": {
      "needs_background": "light"
     },
     "output_type": "display_data"
    }
   ],
   "source": [
    "# boxplot + kdeplot\n",
    "sns.violinplot(data=df, x='tip', inner='quart')\n",
    "plt.show()"
   ]
  },
  {
   "cell_type": "code",
   "execution_count": 82,
   "id": "6ccbc3bd",
   "metadata": {},
   "outputs": [
    {
     "data": {
      "image/png": "[encoded data removed]",
      "text/plain": [
       "<Figure size 864x360 with 1 Axes>"
      ]
     },
     "metadata": {
      "needs_background": "light"
     },
     "output_type": "display_data"
    }
   ],
   "source": [
    "# boxplot + kdeplot\n",
    "sns.violinplot(data=df, y='day', x='tip', hue='smoker', split=True, inner=\"quart\")\n",
    "plt.show()"
   ]
  },
  {
   "cell_type": "markdown",
   "id": "38b00fdc",
   "metadata": {},
   "source": [
    "## Корреляция [▴](#head)"
   ]
  },
  {
   "cell_type": "code",
   "execution_count": 98,
   "id": "cf5cf92c",
   "metadata": {},
   "outputs": [
    {
     "data": {
      "image/png": "[encoded data removed]",
      "text/plain": [
       "<Figure size 360x360 with 1 Axes>"
      ]
     },
     "metadata": {
      "needs_background": "light"
     },
     "output_type": "display_data"
    }
   ],
   "source": [
    "plt.figure(figsize=(5, 5))\n",
    "plt.plot([1, 2, 3], [4, 5, 6], marker='o')\n",
    "plt.show()"
   ]
  },
  {
   "cell_type": "code",
   "execution_count": 106,
   "id": "9f956a9f",
   "metadata": {},
   "outputs": [
    {
     "data": {
      "text/html": [
       "<div>\n",
       "<style scoped>\n",
       "    .dataframe tbody tr th:only-of-type {\n",
       "        vertical-align: middle;\n",
       "    }\n",
       "\n",
       "    .dataframe tbody tr th {\n",
       "        vertical-align: top;\n",
       "    }\n",
       "\n",
       "    .dataframe thead th {\n",
       "        text-align: right;\n",
       "    }\n",
       "</style>\n",
       "<table border=\"1\" class=\"dataframe\">\n",
       "  <thead>\n",
       "    <tr style=\"text-align: right;\">\n",
       "      <th></th>\n",
       "      <th>total_bill</th>\n",
       "      <th>tip</th>\n",
       "    </tr>\n",
       "  </thead>\n",
       "  <tbody>\n",
       "    <tr>\n",
       "      <th>total_bill</th>\n",
       "      <td>1.000000</td>\n",
       "      <td>0.675734</td>\n",
       "    </tr>\n",
       "    <tr>\n",
       "      <th>tip</th>\n",
       "      <td>0.675734</td>\n",
       "      <td>1.000000</td>\n",
       "    </tr>\n",
       "  </tbody>\n",
       "</table>\n",
       "</div>"
      ],
      "text/plain": [
       "            total_bill       tip\n",
       "total_bill    1.000000  0.675734\n",
       "tip           0.675734  1.000000"
      ]
     },
     "execution_count": 106,
     "metadata": {},
     "output_type": "execute_result"
    }
   ],
   "source": [
    "df[['total_bill', 'tip']].corr()"
   ]
  },
  {
   "cell_type": "code",
   "execution_count": 107,
   "id": "fddd6f51",
   "metadata": {},
   "outputs": [
    {
     "data": {
      "image/png": "[encoded data removed]",
      "text/plain": [
       "<Figure size 360x360 with 1 Axes>"
      ]
     },
     "metadata": {
      "needs_background": "light"
     },
     "output_type": "display_data"
    }
   ],
   "source": [
    "plt.figure(figsize=(5, 5))\n",
    "plt.scatter(x=df['total_bill'], y=df['tip'])\n",
    "plt.xlabel('total bill')\n",
    "plt.ylabel('tip')\n",
    "plt.show()"
   ]
  },
  {
   "cell_type": "code",
   "execution_count": 114,
   "id": "e67892bc",
   "metadata": {},
   "outputs": [
    {
     "data": {
      "image/png": "[encoded data removed]",
      "text/plain": [
       "<Figure size 432x360 with 2 Axes>"
      ]
     },
     "metadata": {
      "needs_background": "light"
     },
     "output_type": "display_data"
    }
   ],
   "source": [
    "plt.figure(figsize=(6, 5))\n",
    "sns.heatmap(df.corr(), \n",
    "            annot=True, \n",
    "            cmap='seismic', \n",
    "            vmin=-1, vmax=1, center=0)\n",
    "plt.show()"
   ]
  },
  {
   "cell_type": "markdown",
   "id": "d2609618",
   "metadata": {},
   "source": [
    "## Стили графиков [▴](#head)"
   ]
  },
  {
   "cell_type": "code",
   "execution_count": 125,
   "id": "b9e17ee8",
   "metadata": {},
   "outputs": [
    {
     "name": "stdout",
     "output_type": "stream",
     "text": [
      "['Solarize_Light2', '_classic_test_patch', '_mpl-gallery', '_mpl-gallery-nogrid', 'bmh', 'classic', 'dark_background', 'fast', 'fivethirtyeight', 'ggplot', 'grayscale', 'seaborn', 'seaborn-bright', 'seaborn-colorblind', 'seaborn-dark', 'seaborn-dark-palette', 'seaborn-darkgrid', 'seaborn-deep', 'seaborn-muted', 'seaborn-notebook', 'seaborn-paper', 'seaborn-pastel', 'seaborn-poster', 'seaborn-talk', 'seaborn-ticks', 'seaborn-white', 'seaborn-whitegrid', 'tableau-colorblind10']\n"
     ]
    }
   ],
   "source": [
    "# Список доступных стилей\n",
    "print(plt.style.available)"
   ]
  },
  {
   "cell_type": "code",
   "execution_count": 126,
   "id": "5a1f38c6",
   "metadata": {},
   "outputs": [],
   "source": [
    "# Применение нужного стиля\n",
    "plt.style.use('seaborn-talk')"
   ]
  },
  {
   "cell_type": "markdown",
   "id": "1de2be7a",
   "metadata": {},
   "source": [
    "## Настройка своего стиля [▴](#head)"
   ]
  },
  {
   "cell_type": "code",
   "execution_count": null,
   "id": "9454d546",
   "metadata": {
    "scrolled": false
   },
   "outputs": [],
   "source": [
    "# Посмотреть текущие параметры\n",
    "plt.rcParams"
   ]
  },
  {
   "cell_type": "code",
   "execution_count": 19,
   "id": "96ddfaa4",
   "metadata": {},
   "outputs": [],
   "source": [
    "# Обновить нужный параметр с помощью словаря\n",
    "plt.rcParams.update({'font.size': 12,\n",
    "                     'figure.figsize': (12,5),\n",
    "                     'axes.grid': True})"
   ]
  },
  {
   "cell_type": "code",
   "execution_count": 147,
   "id": "c3827f97",
   "metadata": {},
   "outputs": [],
   "source": [
    "plt.rcParams['figure.figsize'] = (12, 5) # задать размер figure по умолчанию\n",
    "plt.rcParams['axes.grid'] = True\n",
    "plt.rcParams['font.size'] = 20"
   ]
  },
  {
   "cell_type": "markdown",
   "id": "bb0f5659",
   "metadata": {},
   "source": [
    "<a id='prosthesis'></a>\n",
    "# Наборы полезного кода [▴](#head)"
   ]
  },
  {
   "cell_type": "markdown",
   "id": "f224339a",
   "metadata": {},
   "source": [
    "<a id='prost_01'></a>\n",
    "\n",
    "## Предварительный обзор данных [▴](#head)"
   ]
  },
  {
   "cell_type": "code",
   "execution_count": null,
   "id": "40696f49",
   "metadata": {},
   "outputs": [],
   "source": [
    "# o_df от overview_DataFrame\n",
    "\n",
    "def overview(o_df):\n",
    "   \n",
    "    plt.figure(figsize=(20,0.1))\n",
    "    plt.title(f'Таблица: {o_df.name}', {'fontsize': 30})\n",
    "    plt.axis('off')\n",
    "    plt.show()\n",
    "    \n",
    "    print(f'\\nОбщий вид\\n{\"=\" * 100}')\n",
    "    display(o_df)\n",
    "    \n",
    "    print(f'\\nОбщая информация:\\n{\"=\" * 100}')\n",
    "    o_df.info()\n",
    "    \n",
    "    print(f'\\n.describe()\\n{\"=\" * 100}')\n",
    "    display(o_df.describe(datetime_is_numeric=True))\n",
    "    \n",
    "    print(f'\\n.describe(текстовых значений датафрейма)\\n{\"=\" * 100}')\n",
    "    display(o_df.select_dtypes(include=['object', 'category']).describe())\n",
    "    \n",
    "    print(f'\\nИнформация о пропусках\\n{\"=\" * 100}')\n",
    "    df_i = o_df.isna().sum().index\n",
    "    df_na_sum = o_df.isna().sum().values\n",
    "    df_na_part = round(o_df.isna().sum() / o_df.shape[0] * 100, 1).values\n",
    "    display(pd.DataFrame({'Количество пропусков': df_na_sum, \n",
    "                          'Процент пропусков %': df_na_part}, index=df_i)) \n",
    "    \n",
    "    print(f'\\n{\"=\" * 100}\\nКоличество полных дубликатов: {o_df.duplicated().sum()}\\n{\"=\" * 100}')\n",
    "    \n",
    "    plt.figure(figsize=(12,10))\n",
    "    corr_matrix = sns.heatmap(o_df.corr(), \n",
    "                          annot=True, \n",
    "                          vmin=-1, vmax=1, center=0, \n",
    "                          cmap='seismic',\n",
    "                          mask=(np.tri(len(o_df.corr())).T),\n",
    "                          linewidths=1,\n",
    "                          linecolor='grey')\n",
    "\n",
    "    corr_matrix.set_title(\"Корреляционная матрица\", fontsize=16)\n",
    "    plt.show()"
   ]
  },
  {
   "cell_type": "code",
   "execution_count": null,
   "id": "0d8ae5e4",
   "metadata": {},
   "outputs": [],
   "source": []
  },
  {
   "cell_type": "markdown",
   "id": "b0439099",
   "metadata": {},
   "source": [
    "<a id='prost_02'></a>\n",
    "\n",
    "## Измерение времени выполнения тетрадки [▴](#head)"
   ]
  },
  {
   "cell_type": "code",
   "execution_count": 135,
   "id": "25b35d3f",
   "metadata": {},
   "outputs": [
    {
     "name": "stdout",
     "output_type": "stream",
     "text": [
      "Общее время выполнения тетрадки: 0.00 минут\n"
     ]
    }
   ],
   "source": [
    "import time\n",
    "\n",
    "full_start = time.time() # Таймер, который покажет время выполнения всей тетрадки\n",
    "full_stop = time.time()\n",
    "notebook_time = full_stop - full_start\n",
    "print(f'Общее время выполнения тетрадки: {notebook_time / 60:.2f} минут')"
   ]
  },
  {
   "cell_type": "markdown",
   "id": "764441b3",
   "metadata": {},
   "source": [
    "<a id='ml'></a>\n",
    "\n",
    "# ML [▴](#head)"
   ]
  },
  {
   "cell_type": "code",
   "execution_count": null,
   "id": "c8821712",
   "metadata": {},
   "outputs": [],
   "source": []
  }
 ],
 "metadata": {
  "kernelspec": {
   "display_name": "Python 3 (ipykernel)",
   "language": "python",
   "name": "python3"
  },
  "language_info": {
   "codemirror_mode": {
    "name": "ipython",
    "version": 3
   },
   "file_extension": ".py",
   "mimetype": "text/x-python",
   "name": "python",
   "nbconvert_exporter": "python",
   "pygments_lexer": "ipython3",
   "version": "3.9.12"
  }
 },
 "nbformat": 4,
 "nbformat_minor": 5
}
