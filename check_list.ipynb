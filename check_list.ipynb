{
 "cells": [
  {
   "cell_type": "markdown",
   "id": "72d65647",
   "metadata": {},
   "source": [
    "# Чек лист проверки для DS"
   ]
  },
  {
   "cell_type": "markdown",
   "id": "02dbfa3b",
   "metadata": {},
   "source": [
    "### Обзор данных\n",
    "- чтение файла\n",
    "- обзор данных - `display(df.head())` и `df.info()`\n",
    "- обзор заголовков столбцов - `df.columns`\n",
    "\n",
    "### Предобработка данных\n",
    "- [переименование столбцов](#rename_01) - `df.rename()` или `df.columns.str`\n",
    "- подсчет пропусков - `df.isna().sum()`\n",
    "- замена пропусков - `df['colname'].fillna('value')`\n",
    "- подсчет явных дубликатов - `df.duplicated().sum()`\n",
    "- удаление явных дубликатов - `df.drop_duplicates().reset_index(drop=True)`\n",
    "- поиск неявных дубликатов - `df['colname'].sort_values().unique()`\n",
    "- [замена неявных дубликатов](#replace_duplicates_01) - `df['colname'].replace('wrong', right')`\n",
    "\n",
    "### Проверка гипотез\n",
    "- подсчет количества - `df.groupby('colname1')['colname2'].count()`\n",
    "- фильтрация с логической индексацией - `df[df['colname'] == 'val']`\n",
    "- подсчет значений с логической индексацией - `df[df['colname'] == 'val'].count()`\n",
    "- группировка с сортировкой - `df.groupby('colname')['colname'].count().sort_values()`\n",
    "\n",
    "### Итоги исследования"
   ]
  },
  {
   "cell_type": "markdown",
   "id": "aae640b8",
   "metadata": {},
   "source": []
  },
  {
   "cell_type": "markdown",
   "id": "c99df7e2",
   "metadata": {},
   "source": [
    "<a id='rename_01'></a>\n",
    "**Переименование столбцов**\n",
    "- привести к нижнему регистру\n",
    "- убрать пробелы\n",
    "- использоват snake_case"
   ]
  },
  {
   "cell_type": "code",
   "execution_count": null,
   "id": "84951ab5",
   "metadata": {},
   "outputs": [],
   "source": [
    "df.rename(columns={'  userID': 'user_id', 'Track': 'track', '  City  ': 'city', 'Day': 'day'}, inplace=True)\n",
    "df.columns = df.columns.str.strip().str.lower().str.replace('userid', 'user_id')"
   ]
  },
  {
   "cell_type": "code",
   "execution_count": null,
   "id": "3f2d3120",
   "metadata": {},
   "outputs": [],
   "source": []
  },
  {
   "cell_type": "code",
   "execution_count": null,
   "id": "7862d1c5",
   "metadata": {},
   "outputs": [],
   "source": []
  },
  {
   "cell_type": "code",
   "execution_count": null,
   "id": "aacd3d62",
   "metadata": {},
   "outputs": [],
   "source": []
  },
  {
   "cell_type": "markdown",
   "id": "effb0f52",
   "metadata": {},
   "source": [
    "<a id='replace_duplicates_01'></a>\n",
    "**Замена неявных дубликатов**"
   ]
  },
  {
   "cell_type": "code",
   "execution_count": null,
   "id": "a259f382",
   "metadata": {},
   "outputs": [],
   "source": [
    "def replace_wrong_genres(wrong_genres, correct_genre):\n",
    "    for wrong_genre in wrong_genres:\n",
    "        df['genre'] = df['genre'].replace(wrong_genre, correct_genre)"
   ]
  },
  {
   "cell_type": "code",
   "execution_count": null,
   "id": "344e9ef3",
   "metadata": {},
   "outputs": [],
   "source": [
    "def replace_wrong_genres_upgrade(genres_duplicates): # принимаем на вход словарь с данными о дубликатах\n",
    "    for item in genres_duplicates.items(): # обходим каждый элемент словаря, распаковывая их в кортеж\n",
    "        for val in item[1]: # в кортеже создаем цикл на обход списка (по сути это значение ключа словаря со списком дубликатов)\n",
    "            df['genre'] = df['genre'].replace(val, item[0]) # заменяем каждый дубликат на верное значение (ключ словаря)"
   ]
  },
  {
   "cell_type": "code",
   "execution_count": null,
   "id": "0b9e6f56",
   "metadata": {},
   "outputs": [],
   "source": []
  },
  {
   "cell_type": "code",
   "execution_count": null,
   "id": "46fcc76e",
   "metadata": {},
   "outputs": [],
   "source": []
  }
 ],
 "metadata": {
  "kernelspec": {
   "display_name": "Python 3 (ipykernel)",
   "language": "python",
   "name": "python3"
  },
  "language_info": {
   "codemirror_mode": {
    "name": "ipython",
    "version": 3
   },
   "file_extension": ".py",
   "mimetype": "text/x-python",
   "name": "python",
   "nbconvert_exporter": "python",
   "pygments_lexer": "ipython3",
   "version": "3.9.7"
  }
 },
 "nbformat": 4,
 "nbformat_minor": 5
}
